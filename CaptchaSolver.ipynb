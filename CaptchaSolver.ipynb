{
 "cells": [
  {
   "cell_type": "code",
   "execution_count": 232,
   "id": "df709ebb-638d-44c0-8129-5352662099d1",
   "metadata": {},
   "outputs": [],
   "source": [
    "import kaggle\n",
    "import pandas as pd\n",
    "import numpy as np\n",
    "import os\n",
    "from skimage import io, transform\n",
    "import matplotlib.pyplot as plt\n",
    "import torch\n",
    "\n",
    "from torchvision import datasets, transforms\n",
    "import torch.nn as nn\n",
    "import torch.nn.functional as F\n",
    "import torch.optim as optim"
   ]
  },
  {
   "cell_type": "code",
   "execution_count": 3,
   "id": "19efc7ae-c109-4629-a12c-aa2c7d0b1e67",
   "metadata": {},
   "outputs": [],
   "source": [
    "def fetch_data():\n",
    "    kaggle.api.authenticate()\n",
    "    kaggle.api.dataset_download_files('fournierp/captcha-version-2-images', path=r'dataset', unzip=True)\n",
    "fetch_data()"
   ]
  },
  {
   "cell_type": "code",
   "execution_count": 335,
   "id": "fbebd1a9-2eb2-4ddd-ac30-cba4d9868ada",
   "metadata": {},
   "outputs": [
    {
     "name": "stdout",
     "output_type": "stream",
     "text": [
      "cuda:0\n"
     ]
    }
   ],
   "source": [
    "# setup \n",
    "batch_size_train = 32\n",
    "batch_size_test = 135\n",
    "\n",
    "random_seed = 1\n",
    "torch.manual_seed(random_seed)\n",
    "\n",
    "device = torch.device(\"cuda:0\" if torch.cuda.is_available() else \"cpu\")\n",
    "print(device)"
   ]
  },
  {
   "cell_type": "code",
   "execution_count": 227,
   "id": "4263beb2-1e85-427d-97a8-d58d99aa380a",
   "metadata": {},
   "outputs": [],
   "source": [
    "def imshow(image, ax=None, title=None, normalize=True):\n",
    "    if ax is None:\n",
    "        fig, ax = plt.subplots()\n",
    "    image = image.numpy()\n",
    "    image = np.transpose(image, (1,2,0))\n",
    "    ax.imshow(image, cmap = 'gray')\n",
    "    ax.spines['top'].set_visible(False)\n",
    "    ax.spines['right'].set_visible(False)\n",
    "    ax.spines['left'].set_visible(False)\n",
    "    ax.spines['bottom'].set_visible(False)\n",
    "    ax.tick_params(axis='both', length=0)\n",
    "    ax.set_xticklabels('')\n",
    "    ax.set_yticklabels('')\n",
    "\n",
    "    return ax"
   ]
  },
  {
   "cell_type": "code",
   "execution_count": 228,
   "id": "509239cb-7485-4101-961d-e31a3b598c5a",
   "metadata": {
    "tags": []
   },
   "outputs": [],
   "source": [
    " for item in os.listdir(\"./dataset/samples\"):\n",
    "        assert len(item) == 9"
   ]
  },
  {
   "cell_type": "code",
   "execution_count": 56,
   "id": "ffcfa722-ff51-4a69-b17e-8d347e999109",
   "metadata": {},
   "outputs": [
    {
     "name": "stdout",
     "output_type": "stream",
     "text": [
      "62\n",
      "{'a': 0, 'b': 1, 'c': 2, 'd': 3, 'e': 4, 'f': 5, 'g': 6, 'h': 7, 'i': 8, 'j': 9, 'k': 10, 'l': 11, 'm': 12, 'n': 13, 'o': 14, 'p': 15, 'q': 16, 'r': 17, 's': 18, 't': 19, 'u': 20, 'v': 21, 'w': 22, 'x': 23, 'y': 24, 'z': 25, 'A': 26, 'B': 27, 'C': 28, 'D': 29, 'E': 30, 'F': 31, 'G': 32, 'H': 33, 'I': 34, 'J': 35, 'K': 36, 'L': 37, 'M': 38, 'N': 39, 'O': 40, 'P': 41, 'Q': 42, 'R': 43, 'S': 44, 'T': 45, 'U': 46, 'V': 47, 'W': 48, 'X': 49, 'Y': 50, 'Z': 51, '0': 52, '1': 53, '2': 54, '3': 55, '4': 56, '5': 57, '6': 58, '7': 59, '8': 60, '9': 61}\n"
     ]
    }
   ],
   "source": [
    "# tokenize\n",
    "alphabet = \"abcdefghijklmnopqrstuvwxyz\"\n",
    "numbers=map(str, list(range(0,10)))\n",
    "\n",
    "tokens = list(alphabet + alphabet.upper()) + list(numbers)\n",
    "n_tokens = len(tokens)\n",
    "print(n_tokens)\n",
    "token_dict = {i: tokens[i] for i in range(len(tokens))}\n",
    "token_dict_reversed = {v: k for k, v in token_dict.items()}\n",
    "print(token_dict_reversed)\n"
   ]
  },
  {
   "cell_type": "code",
   "execution_count": 210,
   "id": "f1331f42-9fd3-4d1d-9da1-10009a38adbe",
   "metadata": {},
   "outputs": [],
   "source": [
    "class CAPTCHADataset(torch.utils.data.Dataset):\n",
    "    def __init__(self, path, transforms=None):\n",
    "        self.path = path\n",
    "        self.transforms = transforms\n",
    "        \n",
    "        # store the name of the image as that is the target/label\n",
    "        self.targets = []\n",
    "        self.paths = []\n",
    "\n",
    "        images_path = self.path + \"/\"\n",
    "        self.images = os.listdir(images_path)\n",
    "        self.images.sort()\n",
    "        for i in self.images:\n",
    "            self.targets.append(i[:5])\n",
    "            self.paths.append(images_path + i)\n",
    "    \n",
    "    def __len__(self):\n",
    "        return len(self.images)\n",
    "    \n",
    "    \n",
    "    def __getitem__(self, idx):\n",
    "        \"\"\"\n",
    "        idx: Index of the image\n",
    "        Return: dictionary of the image tensor and target tensor\n",
    "        \"\"\"\n",
    "        img = cv2.imread(self.paths[idx])\n",
    "        name = self.targets[idx]\n",
    "        label = [token_dict_reversed[char] for char in name]\n",
    "        \n",
    "        # convert to onehot vector matrix\n",
    "        label_onehot = []\n",
    "        for ind in label:\n",
    "            oh_vector = torch.zeros(n_tokens)\n",
    "            oh_vector[ind] = 1\n",
    "            label_onehot.append(oh_vector.unsqueeze(0))\n",
    "            \n",
    "        #print(img.shape)    \n",
    "       \n",
    "        # apply transformations to the image \n",
    "        if self.transforms:\n",
    "            img = self.transforms(img)\n",
    "            \n",
    "        sample = {\"image\": img, \"label\": torch.cat(label_onehot)}\n",
    "        \n",
    "        return img, torch.cat(label_onehot)\n",
    "        "
   ]
  },
  {
   "cell_type": "code",
   "execution_count": 211,
   "id": "c3679d72-7d63-45dc-ac7d-8b6f4a2335ac",
   "metadata": {},
   "outputs": [
    {
     "name": "stdout",
     "output_type": "stream",
     "text": [
      "tensor([[0., 0., 0., 0., 0., 0., 0., 0., 0., 0., 0., 0., 0., 0., 0., 0., 0., 0.,\n",
      "         0., 0., 0., 0., 0., 0., 0., 0., 0., 0., 0., 0., 0., 0., 0., 0., 0., 0.,\n",
      "         0., 0., 0., 0., 0., 0., 0., 0., 0., 0., 0., 0., 0., 0., 0., 0., 0., 0.,\n",
      "         0., 1., 0., 0., 0., 0., 0., 0.],\n",
      "        [0., 0., 0., 0., 0., 0., 0., 0., 0., 0., 0., 0., 0., 1., 0., 0., 0., 0.,\n",
      "         0., 0., 0., 0., 0., 0., 0., 0., 0., 0., 0., 0., 0., 0., 0., 0., 0., 0.,\n",
      "         0., 0., 0., 0., 0., 0., 0., 0., 0., 0., 0., 0., 0., 0., 0., 0., 0., 0.,\n",
      "         0., 0., 0., 0., 0., 0., 0., 0.],\n",
      "        [0., 0., 0., 0., 0., 0., 0., 0., 0., 0., 0., 0., 0., 0., 0., 0., 0., 0.,\n",
      "         0., 0., 0., 0., 1., 0., 0., 0., 0., 0., 0., 0., 0., 0., 0., 0., 0., 0.,\n",
      "         0., 0., 0., 0., 0., 0., 0., 0., 0., 0., 0., 0., 0., 0., 0., 0., 0., 0.,\n",
      "         0., 0., 0., 0., 0., 0., 0., 0.],\n",
      "        [0., 0., 0., 0., 0., 0., 0., 0., 0., 0., 0., 0., 0., 0., 0., 0., 0., 0.,\n",
      "         0., 0., 0., 0., 0., 0., 0., 0., 0., 0., 0., 0., 0., 0., 0., 0., 0., 0.,\n",
      "         0., 0., 0., 0., 0., 0., 0., 0., 0., 0., 0., 0., 0., 0., 0., 0., 0., 0.,\n",
      "         0., 0., 0., 0., 0., 1., 0., 0.],\n",
      "        [0., 0., 0., 0., 0., 0., 0., 0., 0., 0., 0., 0., 0., 0., 0., 0., 0., 0.,\n",
      "         0., 0., 0., 0., 1., 0., 0., 0., 0., 0., 0., 0., 0., 0., 0., 0., 0., 0.,\n",
      "         0., 0., 0., 0., 0., 0., 0., 0., 0., 0., 0., 0., 0., 0., 0., 0., 0., 0.,\n",
      "         0., 0., 0., 0., 0., 0., 0., 0.]])\n"
     ]
    }
   ],
   "source": [
    "# testing\n",
    "label = [token_dict_reversed[char] for char in \"3nw7w\"]\n",
    "label_onehot = []\n",
    "for ind in label:\n",
    "    oh_vector = torch.zeros(n_tokens)\n",
    "    oh_vector[ind] = 1\n",
    "    label_onehot.append(oh_vector.unsqueeze(0))\n",
    "print(torch.cat(label_onehot))"
   ]
  },
  {
   "cell_type": "code",
   "execution_count": 221,
   "id": "8923be12-b52f-412c-912f-d51bde0405a6",
   "metadata": {},
   "outputs": [],
   "source": [
    "# do random split ~ 75% train, 12.5% for validation and test set\n",
    "from torch.utils.data import random_split\n",
    "def getDataLoaders(transform=None):\n",
    "    # load data set\n",
    "    \n",
    "    \n",
    "    dataset =  CAPTCHADataset(\"./dataset/samples\", transforms = transform)\n",
    "    captcha_training_set, captcha_validation_set = random_split(dataset, [800, 1070-800])\n",
    "    captcha_validation_set, captcha_test_set = random_split(captcha_validation_set, [135, 135])\n",
    "    \n",
    "    \n",
    "    train_loader = torch.utils.data.DataLoader(captcha_training_set, batch_size=batch_size_train, shuffle=True)\n",
    "\n",
    "    validation_loader = torch.utils.data.DataLoader(captcha_validation_set, batch_size=batch_size_train, shuffle=True)\n",
    "\n",
    "    test_loader = torch.utils.data.DataLoader(captcha_test_set, batch_size=batch_size_test, shuffle=True)\n",
    "    \n",
    "    return train_loader, validation_loader, test_loader\n",
    "\n",
    "transform = transforms.Compose(\n",
    "        [transforms.ToTensor(),\n",
    "         transforms.Resize((256,256)),\n",
    "         transforms.Normalize((0.1307,), (0.3081,))\n",
    "        ]\n",
    "    )\n",
    "\n",
    "train_loader, validation_loader, test_loader = getDataLoaders(transform)"
   ]
  },
  {
   "cell_type": "code",
   "execution_count": 231,
   "id": "8dbcadcf-e7b7-490b-ac70-ea5e82f58c67",
   "metadata": {},
   "outputs": [
    {
     "name": "stderr",
     "output_type": "stream",
     "text": [
      "Clipping input data to the valid range for imshow with RGB data ([0..1] for floats or [0..255] for integers).\n"
     ]
    },
    {
     "name": "stdout",
     "output_type": "stream",
     "text": [
      "torch.Size([32, 3, 256, 256])\n",
      "torch.Size([32, 5, 62])\n",
      "torch.Size([3, 256, 256])\n"
     ]
    },
    {
     "data": {
      "text/plain": [
       "<Axes: >"
      ]
     },
     "execution_count": 231,
     "metadata": {},
     "output_type": "execute_result"
    },
    {
     "data": {
      "image/png": "[encoded data removed]",
      "text/plain": [
       "<Figure size 640x480 with 1 Axes>"
      ]
     },
     "metadata": {},
     "output_type": "display_data"
    }
   ],
   "source": [
    "# check a sample\n",
    "examples = enumerate(train_loader)\n",
    "batch_idx, (example_data, example_targets) = next(examples)\n",
    "print(example_data.shape)\n",
    "print(example_targets.shape)\n",
    "print(example_data[0].unsqueeze(0)[0].shape)\n",
    "imshow(example_data[0].unsqueeze(0)[0])"
   ]
  },
  {
   "cell_type": "markdown",
   "id": "3920ca24-c7d9-4703-b9a1-cd361c575cd7",
   "metadata": {},
   "source": [
    "## Model Architecture"
   ]
  },
  {
   "cell_type": "code",
   "execution_count": 388,
   "id": "c9aab83c-c038-40cf-b68c-27d61ff6b5ed",
   "metadata": {},
   "outputs": [],
   "source": [
    "\n",
    "\n",
    "class Net(nn.Module):\n",
    "    def __init__(self):\n",
    "        super(Net, self).__init__()\n",
    "        num_feature_maps = {\n",
    "            \"conv1\": 6,\n",
    "            \"conv2\": 12,\n",
    "            \"conv3\": 18,\n",
    "            \"conv4\": 24,\n",
    "            \"conv5\": 32\n",
    "        }\n",
    "    \n",
    "        self.conv1 = nn.Sequential(\n",
    "            nn.Conv2d(3, num_feature_maps['conv1'], kernel_size=3),\n",
    "            nn.BatchNorm2d(num_feature_maps['conv1']),\n",
    "            nn.ReLU(),\n",
    "            nn.MaxPool2d(kernel_size=2, stride=2)\n",
    "        )\n",
    "        \n",
    "        self.conv2 = nn.Sequential(\n",
    "            nn.Conv2d(num_feature_maps['conv1'], num_feature_maps['conv2'], kernel_size=3),\n",
    "            nn.BatchNorm2d(num_feature_maps['conv2']),\n",
    "            nn.ReLU(),\n",
    "            nn.MaxPool2d(kernel_size=3, stride=2)\n",
    "        )\n",
    "        \n",
    "        self.conv3 = nn.Sequential(\n",
    "            nn.Conv2d(num_feature_maps['conv2'], num_feature_maps['conv3'], kernel_size=5),\n",
    "            nn.BatchNorm2d(num_feature_maps['conv3']),\n",
    "            nn.ReLU(),\n",
    "            nn.MaxPool2d(kernel_size=2, stride=2)\n",
    "        )\n",
    "        \n",
    "        self.conv4 = nn.Sequential(\n",
    "            nn.Conv2d(num_feature_maps['conv3'], num_feature_maps['conv4'], kernel_size=5),\n",
    "            nn.BatchNorm2d(num_feature_maps['conv4']),\n",
    "            nn.ReLU(),\n",
    "            nn.MaxPool2d(kernel_size=3, stride=2)\n",
    "        )\n",
    "        \n",
    "        self.conv5 = nn.Sequential(\n",
    "            nn.Conv2d(num_feature_maps['conv4'], num_feature_maps['conv5'], kernel_size=5),\n",
    "            nn.BatchNorm2d(num_feature_maps['conv5']),\n",
    "            nn.ReLU(),\n",
    "            nn.MaxPool2d(kernel_size=2, stride=2)\n",
    "        )\n",
    "        \n",
    "        \n",
    "        self.fc1 = nn.Sequential(\n",
    "            nn.Linear(512, 100),\n",
    "            nn.BatchNorm1d(100),\n",
    "            nn.ReLU()\n",
    "        )\n",
    "        \n",
    "        self.fc2 = nn.Sequential(\n",
    "            nn.Linear(100, 62),\n",
    "            nn.BatchNorm1d(62)\n",
    "        )\n",
    "        \n",
    "        \n",
    "    def forward(self, x):\n",
    "        \"\"\"\n",
    "        Forward for network\n",
    "        input: x: pytorch tensor of size [Batchsize, 3, 256, 256]\n",
    "        returns: pytorch tensor of size [32, 62]\n",
    "        \"\"\"\n",
    "        x = self.conv1(x)\n",
    "        x = self.conv2(x)\n",
    "        x = self.conv3(x)\n",
    "        x = self.conv4(x)\n",
    "        x = self.conv5(x)\n",
    "        \n",
    "        # fully connected part\n",
    "        x = torch.flatten(x, start_dim=1)\n",
    "        x = self.fc1(x)\n",
    "        x = self.fc2(x)\n",
    "        \n",
    "        # final activation via softmax\n",
    "        x = F.softmax(x, dim = 1)\n",
    "        return x"
   ]
  },
  {
   "cell_type": "markdown",
   "id": "17c8220f-18f8-4c5c-afce-1e04d35023eb",
   "metadata": {},
   "source": [
    "### Calculate the input size of the fully connected network"
   ]
  },
  {
   "cell_type": "code",
   "execution_count": 355,
   "id": "2c5d01bb-e1b1-4437-a1dd-4b4a25541ed3",
   "metadata": {},
   "outputs": [
    {
     "name": "stdout",
     "output_type": "stream",
     "text": [
      "Convolution 0 output size: 127**2\n",
      "Convolution 1 output size: 62**2\n",
      "Convolution 2 output size: 29**2\n",
      "Convolution 3 output size: 12**2\n",
      "Convolution 4 output size: 4**2\n"
     ]
    },
    {
     "data": {
      "text/plain": [
       "512"
      ]
     },
     "execution_count": 355,
     "metadata": {},
     "output_type": "execute_result"
    }
   ],
   "source": [
    "def calculate_fc_inputsize(image_size:int, \n",
    "                           filter_sizes:list, \n",
    "                           max_pool_sizes:list, \n",
    "                           final_layer_feature_maps:int,\n",
    "                           print_ = False\n",
    "                          ):\n",
    "    \"\"\"\n",
    "    Assumes stride=1 for kernels and stride=2 for maxpooling layers\n",
    "    \"\"\"\n",
    "    conv = image_size\n",
    "    for i in range(0, len(filter_sizes)):\n",
    "        conv = conv - filter_sizes[i] + 1\n",
    "        conv = (conv - max_pool_sizes[i] + 2) //2\n",
    "        if print_:\n",
    "            print(\"Convolution {} output size: {}**2\".format(i, conv))\n",
    "    return (conv**2)*final_layer_feature_maps\n",
    "\n",
    "calculate_fc_inputsize(256, [3,3,5,5,5], [2,3,2,3,2], 32, print_=True)"
   ]
  },
  {
   "cell_type": "markdown",
   "id": "54e1c3ab-0ffb-4d62-b81d-73e1e658a33d",
   "metadata": {},
   "source": [
    "### Check forward pass for an image"
   ]
  },
  {
   "cell_type": "code",
   "execution_count": 389,
   "id": "08f7f394-55ed-4317-bc6e-84c8d13fb1f0",
   "metadata": {},
   "outputs": [
    {
     "name": "stdout",
     "output_type": "stream",
     "text": [
      "torch.Size([32, 3, 256, 256])\n",
      "torch.Size([32, 62])\n",
      "tensor([[0.0068, 0.0055, 0.0263,  ..., 0.0158, 0.0128, 0.0157],\n",
      "        [0.0059, 0.0024, 0.0148,  ..., 0.0072, 0.0422, 0.0923],\n",
      "        [0.0113, 0.0068, 0.0246,  ..., 0.0181, 0.0052, 0.0163],\n",
      "        ...,\n",
      "        [0.0255, 0.0190, 0.0203,  ..., 0.0307, 0.0058, 0.0134],\n",
      "        [0.0183, 0.0279, 0.0386,  ..., 0.0125, 0.0277, 0.0038],\n",
      "        [0.0053, 0.0064, 0.0058,  ..., 0.0120, 0.0043, 0.0056]])\n"
     ]
    }
   ],
   "source": [
    "random_seed = 1\n",
    "torch.manual_seed(random_seed)\n",
    "with torch.no_grad():\n",
    "    model = Net()\n",
    "    x = example_data\n",
    "    print(x.shape)\n",
    "    output = model(x)\n",
    "    print(output.shape)\n",
    "    print(output)"
   ]
  },
  {
   "cell_type": "code",
   "execution_count": 404,
   "id": "8884cea1-888b-4758-a3b4-26c47aa41676",
   "metadata": {},
   "outputs": [
    {
     "data": {
      "text/plain": [
       "tensor([[0., 0., 0., 0., 0., 1., 0., 0., 0., 0., 0., 0., 0., 0., 0., 0., 0., 0.,\n",
       "         0., 0., 0., 0., 0., 0., 0., 0., 0., 0., 0., 0., 0., 0., 0., 0., 0., 0.,\n",
       "         0., 0., 0., 0., 0., 0., 0., 0., 0., 0., 0., 0., 0., 0., 0., 0., 0., 0.,\n",
       "         0., 0., 0., 0., 0., 0., 0., 0.],\n",
       "        [0., 0., 0., 0., 0., 0., 0., 0., 0., 0., 0., 0., 0., 0., 0., 0., 0., 0.,\n",
       "         0., 0., 0., 0., 0., 0., 0., 0., 0., 0., 0., 0., 0., 0., 0., 0., 0., 0.,\n",
       "         0., 0., 0., 0., 0., 0., 0., 0., 0., 0., 0., 0., 0., 0., 0., 0., 0., 1.,\n",
       "         0., 0., 0., 0., 0., 0., 0., 0.],\n",
       "        [0., 0., 0., 0., 0., 0., 0., 1., 0., 0., 0., 0., 0., 0., 0., 0., 0., 0.,\n",
       "         0., 0., 0., 0., 0., 0., 0., 0., 0., 0., 0., 0., 0., 0., 0., 0., 0., 0.,\n",
       "         0., 0., 0., 0., 0., 0., 0., 0., 0., 0., 0., 0., 0., 0., 0., 0., 0., 0.,\n",
       "         0., 0., 0., 0., 0., 0., 0., 0.],\n",
       "        [0., 0., 0., 0., 0., 0., 0., 0., 0., 0., 0., 1., 0., 0., 0., 0., 0., 0.,\n",
       "         0., 0., 0., 0., 0., 0., 0., 0., 0., 0., 0., 0., 0., 0., 0., 0., 0., 0.,\n",
       "         0., 0., 0., 0., 0., 0., 0., 0., 0., 0., 0., 0., 0., 0., 0., 0., 0., 0.,\n",
       "         0., 0., 0., 0., 0., 0., 0., 0.],\n",
       "        [0., 0., 0., 0., 0., 0., 0., 0., 0., 0., 0., 0., 0., 0., 0., 0., 0., 0.,\n",
       "         0., 0., 0., 0., 0., 0., 0., 0., 0., 0., 0., 0., 0., 0., 0., 0., 0., 0.,\n",
       "         0., 0., 0., 0., 0., 0., 0., 0., 0., 0., 0., 0., 0., 0., 0., 0., 0., 0.,\n",
       "         0., 1., 0., 0., 0., 0., 0., 0.]])"
      ]
     },
     "execution_count": 404,
     "metadata": {},
     "output_type": "execute_result"
    }
   ],
   "source": [
    "example_output = torch.topk(output, 5, dim=1)[1][0]\n",
    "\n",
    "label_onehot = []\n",
    "for ind in example_output:\n",
    "    oh_vector = torch.zeros(n_tokens)\n",
    "    oh_vector[ind] = 1\n",
    "    label_onehot.append(oh_vector.unsqueeze(0))\n",
    "output_oh = torch.cat(label_onehot)\n",
    "print(output_oh)"
   ]
  },
  {
   "cell_type": "code",
   "execution_count": 406,
   "id": "d3661efc-b89f-4231-a979-157dc15ca3ad",
   "metadata": {},
   "outputs": [
    {
     "data": {
      "text/plain": [
       "tensor(4.1545)"
      ]
     },
     "execution_count": 406,
     "metadata": {},
     "output_type": "execute_result"
    }
   ],
   "source": [
    "F.cross_entropy(example_targets[0], output_oh)"
   ]
  },
  {
   "cell_type": "code",
   "execution_count": null,
   "id": "2f0511be-040d-4632-bbba-8ff5d3d80e6a",
   "metadata": {},
   "outputs": [],
   "source": [
    "class Trainer:\n",
    "    def __init__(self):\n",
    "        pass\n",
    "    def train(self):\n",
    "        pass\n",
    "    def validation(self):\n",
    "        pass"
   ]
  }
 ],
 "metadata": {
  "kernelspec": {
   "display_name": "Python 3",
   "language": "python",
   "name": "python3"
  },
  "language_info": {
   "codemirror_mode": {
    "name": "ipython",
    "version": 3
   },
   "file_extension": ".py",
   "mimetype": "text/x-python",
   "name": "python",
   "nbconvert_exporter": "python",
   "pygments_lexer": "ipython3",
   "version": "3.9.17"
  }
 },
 "nbformat": 4,
 "nbformat_minor": 5
}
