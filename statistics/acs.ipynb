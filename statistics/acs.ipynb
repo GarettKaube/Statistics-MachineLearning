{
 "cells": [
  {
   "cell_type": "code",
   "execution_count": 1,
   "id": "10788ea7-b793-4dd3-832b-4d0783e807ff",
   "metadata": {
    "tags": []
   },
   "outputs": [],
   "source": [
    "import os\n",
    "import pandas as pd\n",
    "import numpy as np\n",
    "import matplotlib.pyplot as plt\n",
    "import mysql.connector"
   ]
  },
  {
   "cell_type": "markdown",
   "id": "0b45dc9d-a65f-4d32-b5c6-7cd8bd930c38",
   "metadata": {},
   "source": [
    "## Data Analysis of ACS 20011-2021 survey using SQL and Python\n",
    "## Data obtained from: https://usa.ipums.org/usa/index.shtml"
   ]
  },
  {
   "cell_type": "code",
   "execution_count": 176,
   "id": "ab5869b5-e9a6-49a1-b0c6-6c703bc0ecad",
   "metadata": {
    "tags": []
   },
   "outputs": [],
   "source": [
    "# settings\n",
    "plt.style.use('tableau-colorblind10')"
   ]
  },
  {
   "cell_type": "code",
   "execution_count": 227,
   "id": "a8c89f41-7f61-4385-aeaa-f0d77458b886",
   "metadata": {
    "tags": []
   },
   "outputs": [],
   "source": [
    "try:\n",
    "    with open(\"password.txt\", 'r') as f:\n",
    "        pwd = f.read()\n",
    "except FileNotFoundError:\n",
    "    with open(\"password.txt\", 'w') as f:\n",
    "        pass"
   ]
  },
  {
   "cell_type": "code",
   "execution_count": 14,
   "id": "adb2681e-8e42-450c-b0b0-757dc58b9857",
   "metadata": {
    "tags": []
   },
   "outputs": [],
   "source": [
    "# Using SQL just as an excercise \n",
    "db = mysql.connector.connect(host = 'localhost', \n",
    "                             user='root', \n",
    "                             passwd = pwd,\n",
    "                             db='acs',\n",
    "                             allow_local_infile = True\n",
    "                            )"
   ]
  },
  {
   "cell_type": "code",
   "execution_count": 15,
   "id": "e2166393-1434-40d8-9dd7-7014d8d056ea",
   "metadata": {
    "tags": []
   },
   "outputs": [],
   "source": [
    "mycursor = db.cursor()"
   ]
  },
  {
   "cell_type": "code",
   "execution_count": 17,
   "id": "51c8c962-97ec-444d-aacc-0fe22139f148",
   "metadata": {
    "tags": []
   },
   "outputs": [],
   "source": [
    "# drop Acs table before creating the table\n",
    "mycursor.execute(\"DROP TABLE Acs\")"
   ]
  },
  {
   "cell_type": "code",
   "execution_count": 18,
   "id": "d9977bbb-7d84-4a91-9194-7f2dbfba3b1c",
   "metadata": {
    "tags": []
   },
   "outputs": [],
   "source": [
    "# Create table for ACS 2011 and 2021 data\n",
    "mycursor.execute(\"\"\"\n",
    "CREATE TABLE Acs (\n",
    "    ID INT PRIMARY KEY AUTO_INCREMENT, \n",
    "    YEAR INT,\n",
    "    SAMPLE VARCHAR(100),\n",
    "    SERIAL VARCHAR(100),\n",
    "    HHWT INT,\n",
    "    STRATA INT,\n",
    "    GQ INT,\n",
    "    PERNUM INT,\n",
    "    PERWT INT,\n",
    "    NCHILD INT,\n",
    "    NCHLT5 INT,\n",
    "    SEX SMALLINT UNSIGNED,\n",
    "    AGE SMALLINT UNSIGNED,\n",
    "    MARST SMALLINT UNSIGNED,\n",
    "    RACE SMALLINT UNSIGNED,\n",
    "    RACED INT,\n",
    "    CITIZEN SMALLINT UNSIGNED,\n",
    "    YRIMMIG INT,\n",
    "    SPEAKENG SMALLINT UNSIGNED,\n",
    "    SCHOOL SMALLINT UNSIGNED,\n",
    "    EDUC SMALLINT UNSIGNED,\n",
    "    EDUCD INT,\n",
    "    EMPSTAT SMALLINT UNSIGNED,\n",
    "    EMPSTATD INT,\n",
    "    WKSWORK2 SMALLINT UNSIGNED,\n",
    "    UHRSWORK INT,\n",
    "    WRKLSTWK INT,\n",
    "    INCTOT INT,\n",
    "    INCWAGE INT\n",
    "    )\n",
    "\"\"\")"
   ]
  },
  {
   "cell_type": "code",
   "execution_count": 19,
   "id": "bbc5465a-d1d9-477e-b523-552fdb568438",
   "metadata": {
    "tags": []
   },
   "outputs": [],
   "source": [
    "# Insert the data from the acs csv file\n",
    "mycursor.execute(\"\"\"\n",
    "LOAD DATA LOCAL INFILE 'C:/Users/armym/Documents/sqlproject/usa_00007.csv' INTO TABLE Acs\n",
    "FIELDS TERMINATED BY ',' \n",
    "LINES TERMINATED BY '\\n'\n",
    "IGNORE 1 ROWS\n",
    " (YEAR, \n",
    " SAMPLE, \n",
    " SERIAL, \n",
    " @dummy, \n",
    " HHWT,\n",
    " @dummy, \n",
    " STRATA, \n",
    " GQ, \n",
    " PERNUM,\n",
    " PERWT,\n",
    " NCHILD, \n",
    " NCHLT5, \n",
    " SEX, \n",
    " AGE, \n",
    " MARST,\n",
    " RACE, \n",
    " RACED, \n",
    " CITIZEN, \n",
    " YRIMMIG, \n",
    " SPEAKENG,\n",
    " SCHOOL, \n",
    " EDUC, \n",
    " EDUCD,\n",
    " EMPSTAT, \n",
    " EMPSTATD, \n",
    " WKSWORK2, \n",
    " UHRSWORK, \n",
    " WRKLSTWK,\n",
    " INCTOT, \n",
    " INCWAGE\n",
    " );\n",
    "\"\"\")"
   ]
  },
  {
   "cell_type": "code",
   "execution_count": 29,
   "id": "c79a09b6-e718-42fb-b996-d7a95f9bbacb",
   "metadata": {
    "tags": []
   },
   "outputs": [],
   "source": [
    "sql_clean = \"\"\"\n",
    "SELECT ID, YEAR, NCHILD, NCHLT5, MARST,\n",
    "    CASE SEX\n",
    "        WHEN 1 then 0\n",
    "        ELSE 1\n",
    "    END as SEX_NEW,\n",
    "    AGE,\n",
    "    CASE \n",
    "        WHEN RACE=3 THEN 1\n",
    "        WHEN RACE IN (4, 5) THEN 2\n",
    "        WHEN RACE = 2 THEN 3\n",
    "        WHEN RACE = 6 THEN 4\n",
    "        WHEN RACE = 1 THEN 5\n",
    "        ELSE 6\n",
    "    END AS RACE_NEW,\n",
    "    CASE \n",
    "        WHEN CITIZEN = 0 THEN 1\n",
    "        WHEN CITIZEN NOT IN (0, 9) THEN 0\n",
    "        ELSE NULL\n",
    "    END AS CITIZEN_NEW,\n",
    "    IF(YRIMMIG > 0, 1, 0) AS IMMIGRANT,\n",
    "    CASE\n",
    "        WHEN YRIMMIG = 0 THEN 1\n",
    "        ELSE 0\n",
    "    END AS USCITIZEN,\n",
    "    CASE\n",
    "        WHEN SPEAKENG IN (0, 1) THEN 0\n",
    "        WHEN SPEAKENG >= 7 THEN NULL\n",
    "        ELSE 1\n",
    "    END AS SPEAKENG_NEW,\n",
    "    SCHOOL,\n",
    "    FORMAT(CASE EDUC\n",
    "        WHEN 1 THEN 4\n",
    "        WHEN 2 THEN 8\n",
    "        WHEN 3 THEN 9\n",
    "        WHEN 4 THEN 10\n",
    "        WHEN 5 THEN 11\n",
    "        WHEN 6 THEN 12\n",
    "        WHEN 7 THEN 13\n",
    "        WHEN 8 THEN 14\n",
    "        WHEN 9 THEN 15\n",
    "        WHEN 10 THEN 16\n",
    "        WHEN 11 THEN 17\n",
    "    END, 0) AS GRADE,\n",
    "    \n",
    "    CASE \n",
    "        WHEN EMPSTAT IN (0,2,3) THEN 0\n",
    "        ELSE 1\n",
    "    END AS EMPSTAT_NEW,\n",
    "    \n",
    "    WKSWORK2,\n",
    "    \n",
    "    IF(UHRSWORK=99, NULL, UHRSWORK) AS UHRSWORK_NEW,\n",
    "    CASE \n",
    "        WHEN WRKLSTWK=2 THEN 1\n",
    "        WHEN WRKLSTWK=1 THEN 2\n",
    "        WHEN WRKLSTWK IN (0,3) THEN NULL\n",
    "    END AS WRKLSTWK_NEW,\n",
    "    \n",
    "    IF(INCWAGE>=999999 , NULL, INCWAGE) AS INCWAGE_NEW\n",
    "\n",
    "    FROM acs\n",
    "    WHERE AGE BETWEEN 18 AND 55\n",
    "\"\"\"\n",
    "#     IF(EMPSTAT=1 AND UHRSWORK > 0 AND WRKLSTWK=1 AND INCWAGE>0, INCWAGE/WKSWORK2, NULL) AS WEEKLYEARNINGS"
   ]
  },
  {
   "cell_type": "code",
   "execution_count": 177,
   "id": "b17182cd-3537-49ad-9a4b-f3a2487417c3",
   "metadata": {
    "tags": []
   },
   "outputs": [],
   "source": [
    "# create weekly earnings variable\n",
    "sql_clean2 = \"\"\"\n",
    "WITH acs_cleaned as ({})\n",
    "SELECT *, IF(EMPSTAT_NEW=1 AND UHRSWORK_NEW > 0 AND WRKLSTWK_NEW=1 AND INCWAGE_NEW>0, INCWAGE_NEW/WKSWORK2, NULL) AS WEEKLYEARNINGS\n",
    "FROM acs_cleaned\n",
    "\"\"\".format(sql_clean)"
   ]
  },
  {
   "cell_type": "code",
   "execution_count": 178,
   "id": "3c9eb26d-54a1-4327-be8a-91d131f9a02e",
   "metadata": {
    "tags": []
   },
   "outputs": [
    {
     "name": "stderr",
     "output_type": "stream",
     "text": [
      "C:\\Users\\armym\\AppData\\Local\\Temp\\ipykernel_49268\\1745424006.py:2: UserWarning: pandas only supports SQLAlchemy connectable (engine/connection) or database string URI or sqlite3 DBAPI2 connection. Other DBAPI2 objects are not tested. Please consider using SQLAlchemy.\n",
      "  df = pd.read_sql(sql_clean2, db)\n"
     ]
    },
    {
     "name": "stdout",
     "output_type": "stream",
     "text": [
      "   ID  YEAR  NCHILD  NCHLT5  MARST  SEX_NEW  AGE  RACE_NEW  CITIZEN_NEW  \\\n",
      "0   1  2011       0       0      6        1   19         3            1   \n",
      "1   9  2011       0       0      5        1   53         5            1   \n",
      "2  10  2011       0       0      6        1   24         5            1   \n",
      "3  11  2011       0       0      6        0   19         5            1   \n",
      "4  13  2011       3       0      4        0   49         5            1   \n",
      "\n",
      "   IMMIGRANT  USCITIZEN  SPEAKENG_NEW  SCHOOL GRADE  EMPSTAT_NEW  WKSWORK2  \\\n",
      "0          0          1             1       2    13            0         0   \n",
      "1          0          1             1       1    13            0         0   \n",
      "2          0          1             1       1    14            1         6   \n",
      "3          0          1             1       2    13            0         0   \n",
      "4          0          1             1       1    12            1         6   \n",
      "\n",
      "   UHRSWORK_NEW  WRKLSTWK_NEW  INCWAGE_NEW  WEEKLYEARNINGS  \n",
      "0           0.0           2.0            0             NaN  \n",
      "1           0.0           2.0            0             NaN  \n",
      "2          40.0           1.0        35000       5833.3333  \n",
      "3           0.0           2.0            0             NaN  \n",
      "4          40.0           1.0        38000       6333.3333  \n",
      "Shape: (6017862, 20)\n"
     ]
    }
   ],
   "source": [
    "# convert sql_clean query into a pandas data frame\n",
    "df = pd.read_sql(sql_clean2, db)\n",
    "print(df.head())\n",
    "print(\"Shape: {}\".format(df.shape))"
   ]
  },
  {
   "cell_type": "code",
   "execution_count": null,
   "id": "1c8a0bf0-7656-49c3-8fab-cdb163a7fbd0",
   "metadata": {},
   "outputs": [],
   "source": [
    "# alternitavley we create weekly earnings variable via pandas:\n",
    "def create_weakly_earnings_var(df):\n",
    "    def get_weakly_earnings(x):\n",
    "        if x['EMPSTAT_NEW'] == 1 and x['UHRSWORK_NEW'] > 0 and x['WRKLSTWK_NEW'] == 1 and x['INCWAGE_NEW'] > 0:\n",
    "            return x['INCWAGE_NEW'] / x['WKSWORK2']\n",
    "    df['WEEKLYEARNINGS'] = df.apply(get_weakly_earnings, axis = 1)\n",
    "    return df\n",
    "# df = create_weakly_earnings_var(df)"
   ]
  },
  {
   "cell_type": "code",
   "execution_count": 23,
   "id": "0cbdbdd3-597c-4d40-98ed-796b291d7bd1",
   "metadata": {
    "tags": []
   },
   "outputs": [],
   "source": [
    "mycursor.execute(\"DROP VIEW acs_cleaned\")"
   ]
  },
  {
   "cell_type": "code",
   "execution_count": 24,
   "id": "788ca64e-78f2-48db-87f4-50a01919420f",
   "metadata": {
    "tags": []
   },
   "outputs": [
    {
     "name": "stdout",
     "output_type": "stream",
     "text": [
      "ID, YEAR, NCHILD, NCHLT5, MARST, SEX_NEW, AGE, RACE_NEW, CITIZEN_NEW, IMMIGRANT, USCITIZEN, SPEAKENG_NEW, SCHOOL, GRADE, EMPSTAT_NEW, WKSWORK2, UHRSWORK_NEW, WRKLSTWK_NEW, INCWAGE_NEW, WEEKLYEARNINGS\n"
     ]
    }
   ],
   "source": [
    "# create view so we don't have to run sql_clean query again\n",
    "columns = ', '.join(list(df.columns))\n",
    "\n",
    "mycursor.execute(f\"\"\"\n",
    "CREATE VIEW acs_cleaned\n",
    "    ({columns})\n",
    "AS\n",
    "{sql_clean2}\n",
    "\"\"\")\n",
    "\n",
    "# look at the column names\n",
    "print(columns)"
   ]
  },
  {
   "cell_type": "code",
   "execution_count": null,
   "id": "20cd51fe-17c8-4261-a2d2-8a68e6b6cf48",
   "metadata": {
    "tags": []
   },
   "outputs": [],
   "source": [
    "print(df.info())\n",
    "print(df.describe())"
   ]
  },
  {
   "cell_type": "code",
   "execution_count": 179,
   "id": "af81132e-de45-40a8-9482-c660b7abaecf",
   "metadata": {
    "tags": []
   },
   "outputs": [
    {
     "data": {
      "text/html": [
       "<div>\n",
       "<style scoped>\n",
       "    .dataframe tbody tr th:only-of-type {\n",
       "        vertical-align: middle;\n",
       "    }\n",
       "\n",
       "    .dataframe tbody tr th {\n",
       "        vertical-align: top;\n",
       "    }\n",
       "\n",
       "    .dataframe thead th {\n",
       "        text-align: right;\n",
       "    }\n",
       "</style>\n",
       "<table border=\"1\" class=\"dataframe\">\n",
       "  <thead>\n",
       "    <tr style=\"text-align: right;\">\n",
       "      <th></th>\n",
       "      <th>ID</th>\n",
       "      <th>YEAR</th>\n",
       "      <th>NCHILD</th>\n",
       "      <th>NCHLT5</th>\n",
       "      <th>MARST</th>\n",
       "      <th>SEX_NEW</th>\n",
       "      <th>AGE</th>\n",
       "      <th>RACE_NEW</th>\n",
       "      <th>CITIZEN_NEW</th>\n",
       "      <th>IMMIGRANT</th>\n",
       "      <th>USCITIZEN</th>\n",
       "      <th>SPEAKENG_NEW</th>\n",
       "      <th>SCHOOL</th>\n",
       "      <th>GRADE</th>\n",
       "      <th>EMPSTAT_NEW</th>\n",
       "      <th>WKSWORK2</th>\n",
       "      <th>UHRSWORK_NEW</th>\n",
       "      <th>WRKLSTWK_NEW</th>\n",
       "      <th>INCWAGE_NEW</th>\n",
       "      <th>WEEKLYEARNINGS</th>\n",
       "    </tr>\n",
       "  </thead>\n",
       "  <tbody>\n",
       "    <tr>\n",
       "      <th>0</th>\n",
       "      <td>1</td>\n",
       "      <td>2011</td>\n",
       "      <td>0</td>\n",
       "      <td>0</td>\n",
       "      <td>6</td>\n",
       "      <td>1</td>\n",
       "      <td>19</td>\n",
       "      <td>3</td>\n",
       "      <td>1</td>\n",
       "      <td>0</td>\n",
       "      <td>1</td>\n",
       "      <td>1</td>\n",
       "      <td>2</td>\n",
       "      <td>13</td>\n",
       "      <td>0</td>\n",
       "      <td>0</td>\n",
       "      <td>0.0</td>\n",
       "      <td>2.0</td>\n",
       "      <td>0</td>\n",
       "      <td>NaN</td>\n",
       "    </tr>\n",
       "    <tr>\n",
       "      <th>1</th>\n",
       "      <td>9</td>\n",
       "      <td>2011</td>\n",
       "      <td>0</td>\n",
       "      <td>0</td>\n",
       "      <td>5</td>\n",
       "      <td>1</td>\n",
       "      <td>53</td>\n",
       "      <td>5</td>\n",
       "      <td>1</td>\n",
       "      <td>0</td>\n",
       "      <td>1</td>\n",
       "      <td>1</td>\n",
       "      <td>1</td>\n",
       "      <td>13</td>\n",
       "      <td>0</td>\n",
       "      <td>0</td>\n",
       "      <td>0.0</td>\n",
       "      <td>2.0</td>\n",
       "      <td>0</td>\n",
       "      <td>NaN</td>\n",
       "    </tr>\n",
       "    <tr>\n",
       "      <th>2</th>\n",
       "      <td>10</td>\n",
       "      <td>2011</td>\n",
       "      <td>0</td>\n",
       "      <td>0</td>\n",
       "      <td>6</td>\n",
       "      <td>1</td>\n",
       "      <td>24</td>\n",
       "      <td>5</td>\n",
       "      <td>1</td>\n",
       "      <td>0</td>\n",
       "      <td>1</td>\n",
       "      <td>1</td>\n",
       "      <td>1</td>\n",
       "      <td>14</td>\n",
       "      <td>1</td>\n",
       "      <td>6</td>\n",
       "      <td>40.0</td>\n",
       "      <td>1.0</td>\n",
       "      <td>35000</td>\n",
       "      <td>5833.3333</td>\n",
       "    </tr>\n",
       "    <tr>\n",
       "      <th>3</th>\n",
       "      <td>11</td>\n",
       "      <td>2011</td>\n",
       "      <td>0</td>\n",
       "      <td>0</td>\n",
       "      <td>6</td>\n",
       "      <td>0</td>\n",
       "      <td>19</td>\n",
       "      <td>5</td>\n",
       "      <td>1</td>\n",
       "      <td>0</td>\n",
       "      <td>1</td>\n",
       "      <td>1</td>\n",
       "      <td>2</td>\n",
       "      <td>13</td>\n",
       "      <td>0</td>\n",
       "      <td>0</td>\n",
       "      <td>0.0</td>\n",
       "      <td>2.0</td>\n",
       "      <td>0</td>\n",
       "      <td>NaN</td>\n",
       "    </tr>\n",
       "    <tr>\n",
       "      <th>4</th>\n",
       "      <td>13</td>\n",
       "      <td>2011</td>\n",
       "      <td>3</td>\n",
       "      <td>0</td>\n",
       "      <td>4</td>\n",
       "      <td>0</td>\n",
       "      <td>49</td>\n",
       "      <td>5</td>\n",
       "      <td>1</td>\n",
       "      <td>0</td>\n",
       "      <td>1</td>\n",
       "      <td>1</td>\n",
       "      <td>1</td>\n",
       "      <td>12</td>\n",
       "      <td>1</td>\n",
       "      <td>6</td>\n",
       "      <td>40.0</td>\n",
       "      <td>1.0</td>\n",
       "      <td>38000</td>\n",
       "      <td>6333.3333</td>\n",
       "    </tr>\n",
       "  </tbody>\n",
       "</table>\n",
       "</div>"
      ],
      "text/plain": [
       "   ID  YEAR  NCHILD  NCHLT5  MARST  SEX_NEW  AGE  RACE_NEW  CITIZEN_NEW  \\\n",
       "0   1  2011       0       0      6        1   19         3            1   \n",
       "1   9  2011       0       0      5        1   53         5            1   \n",
       "2  10  2011       0       0      6        1   24         5            1   \n",
       "3  11  2011       0       0      6        0   19         5            1   \n",
       "4  13  2011       3       0      4        0   49         5            1   \n",
       "\n",
       "   IMMIGRANT  USCITIZEN  SPEAKENG_NEW  SCHOOL GRADE  EMPSTAT_NEW  WKSWORK2  \\\n",
       "0          0          1             1       2    13            0         0   \n",
       "1          0          1             1       1    13            0         0   \n",
       "2          0          1             1       1    14            1         6   \n",
       "3          0          1             1       2    13            0         0   \n",
       "4          0          1             1       1    12            1         6   \n",
       "\n",
       "   UHRSWORK_NEW  WRKLSTWK_NEW  INCWAGE_NEW  WEEKLYEARNINGS  \n",
       "0           0.0           2.0            0             NaN  \n",
       "1           0.0           2.0            0             NaN  \n",
       "2          40.0           1.0        35000       5833.3333  \n",
       "3           0.0           2.0            0             NaN  \n",
       "4          40.0           1.0        38000       6333.3333  "
      ]
     },
     "execution_count": 179,
     "metadata": {},
     "output_type": "execute_result"
    }
   ],
   "source": [
    "df.head()"
   ]
  },
  {
   "cell_type": "code",
   "execution_count": 38,
   "id": "7c1b3de9-0823-4f40-a024-df8161240acb",
   "metadata": {
    "tags": []
   },
   "outputs": [
    {
     "name": "stdout",
     "output_type": "stream",
     "text": [
      "ID                      0\n",
      "YEAR                    0\n",
      "NCHILD                  0\n",
      "NCHLT5                  0\n",
      "MARST                   0\n",
      "SEX_NEW                 0\n",
      "AGE                     0\n",
      "RACE_NEW                0\n",
      "CITIZEN_NEW             0\n",
      "IMMIGRANT               0\n",
      "USCITIZEN               0\n",
      "SPEAKENG_NEW            0\n",
      "SCHOOL                  0\n",
      "GRADE               78512\n",
      "EMPSTAT_NEW             0\n",
      "WKSWORK2                0\n",
      "UHRSWORK_NEW         6478\n",
      "WRKLSTWK_NEW       612260\n",
      "INCWAGE_NEW             0\n",
      "WEEKLYEARNINGS    2303580\n",
      "dtype: int64\n",
      "ID                0.000000\n",
      "YEAR              0.000000\n",
      "NCHILD            0.000000\n",
      "NCHLT5            0.000000\n",
      "MARST             0.000000\n",
      "SEX_NEW           0.000000\n",
      "AGE               0.000000\n",
      "RACE_NEW          0.000000\n",
      "CITIZEN_NEW       0.000000\n",
      "IMMIGRANT         0.000000\n",
      "USCITIZEN         0.000000\n",
      "SPEAKENG_NEW      0.000000\n",
      "SCHOOL            0.000000\n",
      "GRADE             0.013046\n",
      "EMPSTAT_NEW       0.000000\n",
      "WKSWORK2          0.000000\n",
      "UHRSWORK_NEW      0.001076\n",
      "WRKLSTWK_NEW      0.101740\n",
      "INCWAGE_NEW       0.000000\n",
      "WEEKLYEARNINGS    0.382790\n",
      "dtype: float64\n"
     ]
    }
   ],
   "source": [
    "categorical = ['IMMIGRANT', \"SEX_NEW\", \"RACE_NEW\", \"CITIZEN_NEW\", \"EMPSTAT_NEW\", \"SCHOOL\", \"MARST\"]\n",
    "ordinal = [\"NCHILD\", \"AGE\", \"GRADE\"]\n",
    "# check NAN values\n",
    "print(df.isna().sum())\n",
    "print(df.isna().sum()/df.shape[0])"
   ]
  },
  {
   "cell_type": "code",
   "execution_count": 187,
   "id": "84c33c47-ca4c-4455-a100-88e2f9aff40e",
   "metadata": {
    "tags": []
   },
   "outputs": [],
   "source": [
    "def modify_axis(ax):\n",
    "    ax.grid(axis='y',zorder=0)\n",
    "    ax.spines['top'].set_visible(False)\n",
    "    ax.spines['right'].set_visible(False)\n",
    "    ax.spines['bottom'].set_visible(False)\n",
    "    ax.spines['left'].set_visible(False)"
   ]
  },
  {
   "cell_type": "code",
   "execution_count": 206,
   "id": "355b4b85-9a27-476b-9aa4-2155fbf7d326",
   "metadata": {
    "tags": []
   },
   "outputs": [
    {
     "name": "stdout",
     "output_type": "stream",
     "text": [
      "IMMIGRANT\n",
      "0    4994782\n",
      "1    1023080\n",
      "Name: count, dtype: int64\n"
     ]
    }
   ],
   "source": [
    "import matplotlib.ticker as ticker\n",
    "\n",
    "immigrant_counts = df['IMMIGRANT'].value_counts()\n",
    "print(immigrant_counts)\n",
    "\n",
    "imm_mapping = {0:\"Non-immigrant\", 1:'Immigrant'}\n",
    " \n",
    "def plot_number_of_immigrants(ax):\n",
    "    \"\"\"Bar plot for number of immigrants and non-immigrants\n",
    "    \"\"\"\n",
    "    immigrant_counts_df = immigrant_counts.reset_index()\n",
    "    # add grid lines and remove axis lines\n",
    "    modify_axis(ax)\n",
    "    \n",
    "    # bar chart\n",
    "    ax.bar(immigrant_counts_df['IMMIGRANT'].map(imm_mapping), \n",
    "           immigrant_counts_df['count'], \n",
    "           color='skyblue',\n",
    "           zorder=3\n",
    "          )\n",
    "    ax.yaxis.set_major_formatter(ticker.FormatStrFormatter('%.0f'))\n",
    "    ax.set_title('Number of Immigrants and Non-immigrants')\n",
    "    "
   ]
  },
  {
   "cell_type": "code",
   "execution_count": 41,
   "id": "6f77d756-507f-44e8-930d-46aa545d6620",
   "metadata": {
    "tags": []
   },
   "outputs": [
    {
     "name": "stdout",
     "output_type": "stream",
     "text": [
      "['Solarize_Light2', '_classic_test_patch', '_mpl-gallery', '_mpl-gallery-nogrid', 'bmh', 'classic', 'dark_background', 'fast', 'fivethirtyeight', 'ggplot', 'grayscale', 'seaborn-v0_8', 'seaborn-v0_8-bright', 'seaborn-v0_8-colorblind', 'seaborn-v0_8-dark', 'seaborn-v0_8-dark-palette', 'seaborn-v0_8-darkgrid', 'seaborn-v0_8-deep', 'seaborn-v0_8-muted', 'seaborn-v0_8-notebook', 'seaborn-v0_8-paper', 'seaborn-v0_8-pastel', 'seaborn-v0_8-poster', 'seaborn-v0_8-talk', 'seaborn-v0_8-ticks', 'seaborn-v0_8-white', 'seaborn-v0_8-whitegrid', 'tableau-colorblind10']\n"
     ]
    }
   ],
   "source": [
    "print(plt.style.available)"
   ]
  },
  {
   "cell_type": "code",
   "execution_count": 207,
   "id": "f2d8d393-b060-4b27-a74e-d66678c313a9",
   "metadata": {
    "tags": []
   },
   "outputs": [
    {
     "name": "stdout",
     "output_type": "stream",
     "text": [
      "                Average weekly earnings\n",
      "IMMIGRANT YEAR                         \n",
      "0         2011              7956.840726\n",
      "          2021             11295.320103\n",
      "1         2011              7770.098474\n",
      "          2021             12298.304542\n"
     ]
    }
   ],
   "source": [
    "# calculate average weakly earnings for immigrants\n",
    "avg_wklyearnings = df.groupby(['IMMIGRANT', 'YEAR'])[['WEEKLYEARNINGS']].mean()\n",
    "avg_wklyearnings.rename({\"WEEKLYEARNINGS\": \"Average weekly earnings\"}, axis=1, inplace=True)\n",
    "print(avg_wklyearnings)\n",
    "# alternatively:\n",
    "\n",
    "def get_avg_wklyearnings_sql():\n",
    "    avg_wklyearnings_sql = \"\"\"\n",
    "    SELECT AVG(WEEKLYEARNINGS) as AVERAGE_WEEKLY_EARNINGS\n",
    "    FROM acs_cleaned\n",
    "    GROUP BY IMMIGRANT\n",
    "    \"\"\"\n",
    "    return pd.read_sql(avg_wklyearnings_sql, db)\n",
    "\n",
    "#avg_wklyearnings = get_avg_wklyearnings_sql()\n",
    "\n",
    "def plot_avg_wklyearnings(ax):\n",
    "    \"\"\"Bar plot for weekly earnings per year for immigrants/non immigrants\n",
    "    \"\"\"\n",
    "    modify_axis(ax)\n",
    "    \n",
    "    years = [2011, 2021]\n",
    "    \n",
    "    x = np.arange(2)  # the label locations\n",
    "    width = 0.4  # the width of the bars\n",
    "    multiplier = 0\n",
    "    \n",
    "    for imm in [0, 1]:\n",
    "        offset = width * multiplier\n",
    "        rects = ax.bar(x + offset, avg_wklyearnings.loc[imm][\"Average weekly earnings\"], \n",
    "                       width, \n",
    "                       label = \"Immigrant\" if imm == 1 else \"Non-immigrant\",\n",
    "                       zorder = 3\n",
    "                      )\n",
    "        ax.bar_label(rects, padding=3)\n",
    "        multiplier += 1\n",
    "        \n",
    "    ax.set_xticks(x + (width/2), years)\n",
    "    ax.set_facecolor('white')\n",
    "    ax.legend()\n",
    "    ax.set_title(\"Average Weekly Earnings For Immigrants/Non Immigrants by Year\")\n"
   ]
  },
  {
   "cell_type": "code",
   "execution_count": 208,
   "id": "8ff1ac29-3e32-42d4-86f9-a8e5fcce5d23",
   "metadata": {
    "tags": []
   },
   "outputs": [
    {
     "data": {
      "image/png": "[encoded data removed]",
      "text/plain": [
       "<Figure size 1400x600 with 2 Axes>"
      ]
     },
     "metadata": {},
     "output_type": "display_data"
    }
   ],
   "source": [
    "# plot\n",
    "fig, ax = plt.subplots(1, 2, figsize=(14, 6), dpi=100)\n",
    "plot_avg_wklyearnings(ax[0])\n",
    "plot_number_of_immigrants(ax[1])"
   ]
  },
  {
   "cell_type": "code",
   "execution_count": null,
   "id": "69b88562-a7ec-47ef-bcca-fc2445ca66c8",
   "metadata": {},
   "outputs": [],
   "source": []
  }
 ],
 "metadata": {
  "kernelspec": {
   "display_name": "Python 3 (ipykernel)",
   "language": "python",
   "name": "python3"
  },
  "language_info": {
   "codemirror_mode": {
    "name": "ipython",
    "version": 3
   },
   "file_extension": ".py",
   "mimetype": "text/x-python",
   "name": "python",
   "nbconvert_exporter": "python",
   "pygments_lexer": "ipython3",
   "version": "3.11.4"
  }
 },
 "nbformat": 4,
 "nbformat_minor": 5
}
