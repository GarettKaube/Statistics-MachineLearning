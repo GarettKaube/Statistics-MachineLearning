{
  "cells": [
    {
      "cell_type": "code",
      "execution_count": 2,
      "id": "df709ebb-638d-44c0-8129-5352662099d1",
      "metadata": {
        "id": "df709ebb-638d-44c0-8129-5352662099d1"
      },
      "outputs": [],
      "source": [
        "#import kaggle\n",
        "import pandas as pd\n",
        "import numpy as np\n",
        "import os\n",
        "from skimage import io, transform\n",
        "import matplotlib.pyplot as plt\n",
        "\n",
        "import cv2\n",
        "\n",
        "import torch\n",
        "from torchvision import datasets, transforms\n",
        "import torch.nn as nn\n",
        "import torch.nn.functional as F\n",
        "import torch.optim as optim"
      ]
    },
    {
      "cell_type": "code",
      "source": [
        "from google.colab import drive\n",
        "drive.mount('/content/drive')"
      ],
      "metadata": {
        "colab": {
          "base_uri": "https://localhost:8080/"
        },
        "id": "nUJO04ZbivAC",
        "outputId": "24a374a1-8971-4994-e382-a5a9a9a889ea"
      },
      "id": "nUJO04ZbivAC",
      "execution_count": 3,
      "outputs": [
        {
          "output_type": "stream",
          "name": "stdout",
          "text": [
            "Mounted at /content/drive\n"
          ]
        }
      ]
    },
    {
      "cell_type": "code",
      "execution_count": 4,
      "id": "19efc7ae-c109-4629-a12c-aa2c7d0b1e67",
      "metadata": {
        "id": "19efc7ae-c109-4629-a12c-aa2c7d0b1e67"
      },
      "outputs": [],
      "source": [
        "def fetch_data():\n",
        "    kaggle.api.authenticate()\n",
        "    kaggle.api.dataset_download_files('fournierp/captcha-version-2-images', path=r'dataset', unzip=True)\n",
        "#fetch_data()"
      ]
    },
    {
      "cell_type": "code",
      "execution_count": 50,
      "id": "fbebd1a9-2eb2-4ddd-ac30-cba4d9868ada",
      "metadata": {
        "colab": {
          "base_uri": "https://localhost:8080/"
        },
        "id": "fbebd1a9-2eb2-4ddd-ac30-cba4d9868ada",
        "outputId": "a85faec2-b675-4ef1-dff8-6d9e0bc2d1ae"
      },
      "outputs": [
        {
          "output_type": "stream",
          "name": "stdout",
          "text": [
            "cuda:0\n"
          ]
        }
      ],
      "source": [
        "# setup\n",
        "batch_size_train = 32\n",
        "batch_size_test = 135\n",
        "\n",
        "random_seed = 1\n",
        "torch.manual_seed(random_seed)\n",
        "log_interval = 10\n",
        "device = torch.device(\"cuda:0\" if torch.cuda.is_available() else \"cpu\")\n",
        "print(device)"
      ]
    },
    {
      "cell_type": "code",
      "execution_count": 6,
      "id": "4263beb2-1e85-427d-97a8-d58d99aa380a",
      "metadata": {
        "id": "4263beb2-1e85-427d-97a8-d58d99aa380a"
      },
      "outputs": [],
      "source": [
        "def imshow(image):\n",
        "    fig, ax = plt.subplots()\n",
        "    image = image.numpy()\n",
        "    image = np.transpose(image, (1,2,0))\n",
        "    ax.imshow(image, cmap = 'gray')\n",
        "    ax.spines['top'].set_visible(False)\n",
        "    ax.spines['right'].set_visible(False)\n",
        "    ax.spines['left'].set_visible(False)\n",
        "    ax.spines['bottom'].set_visible(False)\n",
        "    ax.tick_params(axis='both', length=0)\n",
        "    ax.set_xticklabels('')\n",
        "    ax.set_yticklabels('')\n",
        "\n",
        "    return ax"
      ]
    },
    {
      "cell_type": "code",
      "execution_count": 8,
      "id": "509239cb-7485-4101-961d-e31a3b598c5a",
      "metadata": {
        "tags": [],
        "id": "509239cb-7485-4101-961d-e31a3b598c5a"
      },
      "outputs": [],
      "source": [
        "#  for item in os.listdir(\"./dataset/samples\"):\n",
        "#         assert len(item) == 9"
      ]
    },
    {
      "cell_type": "code",
      "execution_count": 26,
      "id": "ffcfa722-ff51-4a69-b17e-8d347e999109",
      "metadata": {
        "colab": {
          "base_uri": "https://localhost:8080/"
        },
        "id": "ffcfa722-ff51-4a69-b17e-8d347e999109",
        "outputId": "ab5423ce-8917-4d0e-a716-9294f48ef330"
      },
      "outputs": [
        {
          "output_type": "stream",
          "name": "stdout",
          "text": [
            "62\n",
            "{'a': 0, 'b': 1, 'c': 2, 'd': 3, 'e': 4, 'f': 5, 'g': 6, 'h': 7, 'i': 8, 'j': 9, 'k': 10, 'l': 11, 'm': 12, 'n': 13, 'o': 14, 'p': 15, 'q': 16, 'r': 17, 's': 18, 't': 19, 'u': 20, 'v': 21, 'w': 22, 'x': 23, 'y': 24, 'z': 25, 'A': 26, 'B': 27, 'C': 28, 'D': 29, 'E': 30, 'F': 31, 'G': 32, 'H': 33, 'I': 34, 'J': 35, 'K': 36, 'L': 37, 'M': 38, 'N': 39, 'O': 40, 'P': 41, 'Q': 42, 'R': 43, 'S': 44, 'T': 45, 'U': 46, 'V': 47, 'W': 48, 'X': 49, 'Y': 50, 'Z': 51, '0': 52, '1': 53, '2': 54, '3': 55, '4': 56, '5': 57, '6': 58, '7': 59, '8': 60, '9': 61}\n"
          ]
        }
      ],
      "source": [
        "# get tokens\n",
        "alphabet = \"abcdefghijklmnopqrstuvwxyz\"\n",
        "numbers=map(str, list(range(0,10)))\n",
        "\n",
        "characters = list(alphabet + alphabet.upper()) + list(numbers)\n",
        "n_tokens = len(characters)\n",
        "print(n_tokens)\n",
        "token_dict = {i: characters[i] for i in range(len(characters))}\n",
        "token_dict_reversed = {v: k for k, v in token_dict.items()}\n",
        "print(token_dict_reversed)\n"
      ]
    },
    {
      "cell_type": "code",
      "execution_count": 41,
      "id": "f1331f42-9fd3-4d1d-9da1-10009a38adbe",
      "metadata": {
        "id": "f1331f42-9fd3-4d1d-9da1-10009a38adbe"
      },
      "outputs": [],
      "source": [
        "class CAPTCHADataset(torch.utils.data.Dataset):\n",
        "    def __init__(self, path, transforms=None):\n",
        "        self.path = path\n",
        "        self.transforms = transforms\n",
        "\n",
        "        # store the name of the image as that is the target/label\n",
        "        self.targets = []\n",
        "        self.paths = []\n",
        "\n",
        "        images_path = self.path + \"/\"\n",
        "        self.images = os.listdir(images_path)\n",
        "        self.images.sort()\n",
        "        for i in self.images:\n",
        "            self.targets.append(i[:5])\n",
        "            self.paths.append(images_path + i)\n",
        "\n",
        "    def __len__(self):\n",
        "        return len(self.images)\n",
        "\n",
        "\n",
        "    def __getitem__(self, idx):\n",
        "        \"\"\"\n",
        "        idx: Index of the image\n",
        "        Return: dictionary of the image tensor and target tensor\n",
        "        \"\"\"\n",
        "        img = cv2.imread(self.paths[idx])\n",
        "        name = self.targets[idx]\n",
        "        label = [token_dict_reversed[char] for char in name]\n",
        "\n",
        "        # convert to onehot vector matrix\n",
        "        label_onehot = F.one_hot(torch.tensor(label), num_classes=n_tokens).float()\n",
        "\n",
        "\n",
        "        # apply transformations to the image\n",
        "        if self.transforms:\n",
        "            img = self.transforms(img)\n",
        "\n",
        "        return img, label_onehot\n"
      ]
    },
    {
      "cell_type": "code",
      "execution_count": 42,
      "id": "8923be12-b52f-412c-912f-d51bde0405a6",
      "metadata": {
        "id": "8923be12-b52f-412c-912f-d51bde0405a6"
      },
      "outputs": [],
      "source": [
        "# do random split ~ 75% train, 12.5% for validation and test set\n",
        "from torch.utils.data import random_split\n",
        "def getDataLoaders(transform=None):\n",
        "    # load data set\n",
        "\n",
        "    dataset =  CAPTCHADataset(\"/content/drive/MyDrive/captcha/dataset/samples\", transforms = transform)\n",
        "    captcha_training_set, captcha_validation_set = random_split(dataset, [800, 1070-800])\n",
        "    captcha_validation_set, captcha_test_set = random_split(captcha_validation_set, [135, 135])\n",
        "\n",
        "\n",
        "    train_loader = torch.utils.data.DataLoader(captcha_training_set, batch_size=batch_size_train, shuffle=True)\n",
        "\n",
        "    validation_loader = torch.utils.data.DataLoader(captcha_validation_set, batch_size=batch_size_train, shuffle=True)\n",
        "\n",
        "    test_loader = torch.utils.data.DataLoader(captcha_test_set, batch_size=batch_size_test, shuffle=True)\n",
        "\n",
        "    return train_loader, validation_loader, test_loader\n",
        "\n",
        "transform = transforms.Compose(\n",
        "        [transforms.ToTensor(),\n",
        "         transforms.Resize((256,256)),\n",
        "         transforms.Normalize((0.1307,), (0.3081,))\n",
        "        ]\n",
        "    )\n",
        "\n",
        "train_loader, validation_loader, test_loader = getDataLoaders(transform)"
      ]
    },
    {
      "cell_type": "code",
      "execution_count": 43,
      "id": "8dbcadcf-e7b7-490b-ac70-ea5e82f58c67",
      "metadata": {
        "colab": {
          "base_uri": "https://localhost:8080/",
          "height": 547
        },
        "id": "8dbcadcf-e7b7-490b-ac70-ea5e82f58c67",
        "outputId": "d489ec8a-b953-4875-de2e-e9def994cb08"
      },
      "outputs": [
        {
          "output_type": "stream",
          "name": "stderr",
          "text": [
            "/usr/local/lib/python3.10/dist-packages/torchvision/transforms/functional.py:1603: UserWarning: The default value of the antialias parameter of all the resizing transforms (Resize(), RandomResizedCrop(), etc.) will change from None to True in v0.17, in order to be consistent across the PIL and Tensor backends. To suppress this warning, directly pass antialias=True (recommended, future default), antialias=None (current default, which means False for Tensors and True for PIL), or antialias=False (only works on Tensors - PIL will still use antialiasing). This also applies if you are using the inference transforms from the models weights: update the call to weights.transforms(antialias=True).\n",
            "  warnings.warn(\n",
            "WARNING:matplotlib.image:Clipping input data to the valid range for imshow with RGB data ([0..1] for floats or [0..255] for integers).\n"
          ]
        },
        {
          "output_type": "stream",
          "name": "stdout",
          "text": [
            "torch.Size([32, 3, 256, 256])\n",
            "torch.Size([32, 5, 62])\n",
            "torch.Size([3, 256, 256])\n"
          ]
        },
        {
          "output_type": "execute_result",
          "data": {
            "text/plain": [
              "<Axes: >"
            ]
          },
          "metadata": {},
          "execution_count": 43
        },
        {
          "output_type": "display_data",
          "data": {
            "text/plain": [
              "<Figure size 640x480 with 1 Axes>"
            ],
            "image/png": "[encoded data removed]"
          },
          "metadata": {}
        }
      ],
      "source": [
        "# check a sample\n",
        "examples = enumerate(train_loader)\n",
        "batch_idx, (example_data, example_targets) = next(examples)\n",
        "print(example_data.shape)\n",
        "print(example_targets.shape)\n",
        "print(example_data[0].unsqueeze(0)[0].shape)\n",
        "imshow(example_data[0].unsqueeze(0)[0])"
      ]
    },
    {
      "cell_type": "markdown",
      "id": "17c8220f-18f8-4c5c-afce-1e04d35023eb",
      "metadata": {
        "id": "17c8220f-18f8-4c5c-afce-1e04d35023eb"
      },
      "source": [
        "### Calculate the input size of the fully connected network"
      ]
    },
    {
      "cell_type": "code",
      "execution_count": 44,
      "id": "2c5d01bb-e1b1-4437-a1dd-4b4a25541ed3",
      "metadata": {
        "id": "2c5d01bb-e1b1-4437-a1dd-4b4a25541ed3",
        "outputId": "d3fa2d87-d062-4ea4-c590-6a2f78c888db",
        "colab": {
          "base_uri": "https://localhost:8080/"
        }
      },
      "outputs": [
        {
          "output_type": "stream",
          "name": "stdout",
          "text": [
            "Convolution 0 output size: 126.0**2\n",
            "Convolution 1 output size: 60.0**2\n",
            "Convolution 2 output size: 29.0**2\n",
            "Convolution 3 output size: 13.0**2\n",
            "Convolution 4 output size: 5.0**2\n"
          ]
        },
        {
          "output_type": "execute_result",
          "data": {
            "text/plain": [
              "800"
            ]
          },
          "metadata": {},
          "execution_count": 44
        }
      ],
      "source": [
        "def calculate_fc_inputsize(image_size:int,\n",
        "                           filter_sizes:list,\n",
        "                           max_pool_sizes:list,\n",
        "                           final_layer_feature_maps:int,\n",
        "                           conv_stride:list = None,\n",
        "                           conv_padding:list = None,\n",
        "                           print_ = False\n",
        "                          ):\n",
        "    \"\"\"\n",
        "    Calculates the flattened output size of the final convolution layer. Assumes H=W\n",
        "    \"\"\"\n",
        "    import math\n",
        "    conv = image_size\n",
        "    for i in range(0, len(filter_sizes)):\n",
        "        stride = conv_stride[i]\n",
        "        pad = conv_padding[i]\n",
        "        conv = (conv + 2*pad - filter_sizes[i] + stride) / stride\n",
        "        conv = (conv - max_pool_sizes[i] + 2) // 2\n",
        "        if print_:\n",
        "            print(\"Convolution {} output size: {}**2\".format(i, conv))\n",
        "    return int((conv**2)*final_layer_feature_maps)\n",
        "\n",
        "calculate_fc_inputsize(image_size=256,\n",
        "                       filter_sizes=[5,5,3,3,3],\n",
        "                       max_pool_sizes=[2,3,2,3,2],\n",
        "                       final_layer_feature_maps=32,\n",
        "                       conv_stride = [1,1,1,1,1],\n",
        "                       conv_padding = [0,0,0,0,0],\n",
        "                       print_=True\n",
        "                      )"
      ]
    },
    {
      "cell_type": "markdown",
      "id": "3920ca24-c7d9-4703-b9a1-cd361c575cd7",
      "metadata": {
        "id": "3920ca24-c7d9-4703-b9a1-cd361c575cd7"
      },
      "source": [
        "## Model Architecture"
      ]
    },
    {
      "cell_type": "code",
      "execution_count": 45,
      "id": "c9aab83c-c038-40cf-b68c-27d61ff6b5ed",
      "metadata": {
        "id": "c9aab83c-c038-40cf-b68c-27d61ff6b5ed"
      },
      "outputs": [],
      "source": [
        "class Net(nn.Module):\n",
        "    def __init__(self, input_size, num_feature_maps, kernel_sizes, padding=[0]*5, stride=[1]*5):\n",
        "        super(Net, self).__init__()\n",
        "        self.num_feature_maps = num_feature_maps\n",
        "        self.kernel_sizes = kernel_sizes\n",
        "\n",
        "        conv1_num_feature_maps, conv2_num_feature_maps, conv3_num_feature_maps, conv4_num_feature_maps, conv5_num_feature_maps = self.num_feature_maps.values()\n",
        "\n",
        "        self.conv_output_size = calculate_fc_inputsize(input_size, list(self.kernel_sizes.values()), [2,3,2,3,2], conv5_num_feature_maps, stride, padding)\n",
        "\n",
        "\n",
        "        self.conv1 = nn.Sequential(\n",
        "            nn.Conv2d(3, conv1_num_feature_maps, kernel_size=self.kernel_sizes['conv1']),\n",
        "            nn.BatchNorm2d(conv1_num_feature_maps),\n",
        "            nn.ReLU(),\n",
        "            nn.MaxPool2d(kernel_size=2, stride=2)\n",
        "        )\n",
        "\n",
        "        self.conv2 = nn.Sequential(\n",
        "            nn.Conv2d(conv1_num_feature_maps, conv2_num_feature_maps, kernel_size=self.kernel_sizes['conv2']),\n",
        "            nn.BatchNorm2d(conv2_num_feature_maps),\n",
        "            nn.ReLU(),\n",
        "            nn.MaxPool2d(kernel_size=3, stride=2)\n",
        "        )\n",
        "\n",
        "        self.conv3 = nn.Sequential(\n",
        "            nn.Conv2d(conv2_num_feature_maps, conv3_num_feature_maps, kernel_size=self.kernel_sizes['conv3']),\n",
        "            nn.BatchNorm2d(conv3_num_feature_maps),\n",
        "            nn.ReLU(),\n",
        "            nn.MaxPool2d(kernel_size=2, stride=2)\n",
        "        )\n",
        "\n",
        "        self.conv4 = nn.Sequential(\n",
        "            nn.Conv2d(conv3_num_feature_maps, conv4_num_feature_maps, kernel_size=self.kernel_sizes['conv4']),\n",
        "            nn.BatchNorm2d(conv4_num_feature_maps),\n",
        "            nn.ReLU(),\n",
        "            nn.MaxPool2d(kernel_size=3, stride=2)\n",
        "        )\n",
        "\n",
        "        self.conv5 = nn.Sequential(\n",
        "            nn.Conv2d(conv4_num_feature_maps, conv5_num_feature_maps, kernel_size=self.kernel_sizes['conv5']),\n",
        "            nn.BatchNorm2d(conv5_num_feature_maps),\n",
        "            nn.ReLU(),\n",
        "            nn.MaxPool2d(kernel_size=2, stride=2)\n",
        "        )\n",
        "\n",
        "\n",
        "        self.fc1 = nn.Sequential(\n",
        "            nn.Linear(32, 100),\n",
        "            nn.ReLU()\n",
        "        )\n",
        "\n",
        "        self.fc2 = nn.Sequential(\n",
        "            nn.Linear(100, 62)\n",
        "        )\n",
        "\n",
        "        self.out_weights = nn.parameter.Parameter(torch.randn((25, 5))) # for converting the tensors to (BATCH SIZE, LEN_TEXT, NUM_CLASSES)\n",
        "\n",
        "\n",
        "    def forward(self, x):\n",
        "        \"\"\"\n",
        "        Forward for network\n",
        "        input: x: pytorch tensor of size [Batchsize, 3, 256, 256]\n",
        "        returns: pytorch tensor of size [32, 62]\n",
        "        \"\"\"\n",
        "        x = self.conv1(x)\n",
        "        x = self.conv2(x)\n",
        "        x = self.conv3(x)\n",
        "        x = self.conv4(x)\n",
        "        x = self.conv5(x)\n",
        "\n",
        "        # fully connected part\n",
        "        x = torch.flatten(x, start_dim=2)\n",
        "        # print(x.shape)\n",
        "        x = torch.matmul(x, self.out_weights)\n",
        "        # print(x.shape)\n",
        "        x = x.transpose(-2,-1)\n",
        "        x = self.fc1(x)\n",
        "        x = self.fc2(x)\n",
        "\n",
        "        # final activation via softmax\n",
        "        x = F.log_softmax(x, dim = -1)\n",
        "        return x"
      ]
    },
    {
      "cell_type": "markdown",
      "id": "54e1c3ab-0ffb-4d62-b81d-73e1e658a33d",
      "metadata": {
        "id": "54e1c3ab-0ffb-4d62-b81d-73e1e658a33d"
      },
      "source": [
        "### Check forward pass for an image"
      ]
    },
    {
      "cell_type": "code",
      "execution_count": 46,
      "id": "08f7f394-55ed-4317-bc6e-84c8d13fb1f0",
      "metadata": {
        "id": "08f7f394-55ed-4317-bc6e-84c8d13fb1f0",
        "outputId": "f0f90d7a-0110-40aa-a54a-5d786c972d6f",
        "colab": {
          "base_uri": "https://localhost:8080/"
        }
      },
      "outputs": [
        {
          "output_type": "stream",
          "name": "stdout",
          "text": [
            "torch.Size([32, 3, 256, 256])\n",
            "torch.Size([32, 5, 62])\n",
            "tensor([[-5.3354, -3.4237, -4.1362, -3.1243, -4.4558, -7.1750, -7.3741, -5.3039,\n",
            "         -2.8764, -5.2030, -5.5613, -4.9160, -3.9464, -8.0848, -3.4463, -7.8033,\n",
            "         -6.0169, -6.1749, -6.4631, -5.1179, -5.7050, -5.9637, -2.4687, -6.3758,\n",
            "         -5.9156, -4.6289, -3.7186, -5.0791, -4.3201, -5.7618, -6.8382, -2.6084,\n",
            "         -4.1255, -4.6217, -5.9902, -5.1334, -4.9573, -5.1072, -3.4824, -3.4895,\n",
            "         -3.1084, -4.1030, -4.4675, -4.0215, -4.4255, -5.9665, -5.9571, -6.2539,\n",
            "         -3.1218, -5.3860, -4.1441, -5.1898, -4.2775, -3.3427, -2.8059, -4.0644,\n",
            "         -3.3224, -4.8775, -3.3514, -5.3258, -6.7096, -3.8553],\n",
            "        [-5.5785, -4.1931, -4.2651, -2.5088, -5.6898, -8.9629, -9.1088, -6.7763,\n",
            "         -2.2547, -4.7346, -5.3554, -5.6197, -4.6683, -9.0030, -4.9956, -9.0552,\n",
            "         -7.4644, -7.2759, -7.5883, -4.9864, -7.1307, -6.9715, -2.5882, -7.3525,\n",
            "         -6.3546, -4.4242, -3.2528, -5.3070, -4.6730, -5.5506, -7.7863, -2.4444,\n",
            "         -5.6192, -4.9350, -6.0321, -5.0007, -4.6080, -5.0678, -2.7204, -3.1255,\n",
            "         -2.9894, -4.9677, -3.7112, -3.2856, -4.8774, -6.7642, -7.1339, -8.7929,\n",
            "         -4.4407, -7.6113, -4.0618, -5.8479, -4.4255, -2.4352, -4.5912, -4.6238,\n",
            "         -3.9571, -6.2992, -3.2352, -5.9856, -7.7371, -4.7558],\n",
            "        [-3.9179, -2.8210, -3.3909, -3.2051, -5.3087, -5.6334, -6.3700, -6.0885,\n",
            "         -3.7656, -4.4482, -3.7114, -5.1183, -3.7818, -6.5157, -4.5401, -5.7422,\n",
            "         -5.3640, -5.2576, -4.9390, -5.3826, -5.5425, -4.8362, -2.8664, -3.9895,\n",
            "         -4.9171, -4.0931, -3.0792, -4.2042, -4.9070, -6.0723, -4.3037, -3.3591,\n",
            "         -4.8678, -4.5928, -5.3624, -3.9993, -3.6779, -4.5597, -3.3332, -3.7019,\n",
            "         -3.8721, -3.7863, -3.8162, -2.8725, -4.5883, -5.4515, -4.8957, -5.6035,\n",
            "         -3.7811, -5.6627, -4.9258, -4.5849, -5.1213, -3.3626, -3.4051, -3.9714,\n",
            "         -4.8948, -5.3138, -4.1852, -4.6347, -5.7850, -4.0651],\n",
            "        [-6.9866, -8.0750, -6.1525, -6.1442, -5.4074, -5.0079, -5.4407, -5.7049,\n",
            "         -5.8474, -6.2385, -6.0687, -7.0384, -4.4646, -4.5474, -5.9676, -5.5265,\n",
            "         -5.0462, -6.4677, -5.3311, -4.0322, -6.9319, -2.0924, -5.0197, -4.4170,\n",
            "         -4.2152, -4.5499, -5.3686, -4.6068, -5.5933, -5.0919, -4.0618, -5.6796,\n",
            "         -3.2750, -6.9064, -6.1746, -4.9271, -2.9872, -8.6711, -5.3880, -7.0234,\n",
            "         -5.1280, -3.2845, -5.1944, -3.6685, -5.4390, -6.8017, -3.8304, -5.6718,\n",
            "         -5.0962, -7.6829, -5.0264, -1.7671, -5.3148, -3.5081, -3.8740, -2.6868,\n",
            "         -4.1239, -2.8844, -5.6598, -3.1537, -4.4645, -3.0331],\n",
            "        [-5.2202, -3.2274, -4.2871, -3.3966, -5.2649, -7.2696, -6.8218, -5.4857,\n",
            "         -3.7216, -5.3947, -5.1625, -5.4337, -3.4625, -6.4573, -2.8646, -7.0786,\n",
            "         -5.8649, -6.1397, -6.6017, -5.2022, -5.9591, -5.5881, -3.3928, -6.2150,\n",
            "         -6.4995, -4.8779, -4.0848, -4.8399, -4.7412, -4.9974, -5.8321, -2.4683,\n",
            "         -3.9944, -5.3850, -5.0281, -5.5971, -4.3812, -4.5874, -4.2031, -3.4521,\n",
            "         -3.2540, -4.9102, -4.5962, -3.9421, -4.9325, -4.8889, -5.4109, -6.0859,\n",
            "         -2.9806, -4.7650, -4.5141, -5.8425, -3.6348, -3.4432, -3.0450, -2.5900,\n",
            "         -3.7338, -3.5526, -3.9494, -6.4339, -6.1358, -3.0583]])\n",
            "tensor([22,  8,  1, 51, 31])\n"
          ]
        }
      ],
      "source": [
        "random_seed = 1\n",
        "torch.manual_seed(random_seed)\n",
        "\n",
        "num_feature_maps = {\n",
        "    \"conv1\": 6,\n",
        "    \"conv2\": 12,\n",
        "    \"conv3\": 18,\n",
        "    \"conv4\": 24,\n",
        "    \"conv5\": 32\n",
        "}\n",
        "\n",
        "kernel_sizes = {\n",
        "    \"conv1\": 5,\n",
        "    \"conv2\": 5,\n",
        "    \"conv3\": 3,\n",
        "    \"conv4\": 3,\n",
        "    \"conv5\": 3\n",
        "}\n",
        "\n",
        "with torch.no_grad():\n",
        "    model = Net(256, num_feature_maps, kernel_sizes)\n",
        "    x = example_data\n",
        "    print(x.shape)\n",
        "    output = model(x)\n",
        "    print(output.shape)\n",
        "    print(output[0])\n",
        "    print(torch.argmax(output[0], dim=-1))"
      ]
    },
    {
      "cell_type": "code",
      "source": [
        "example_targets[:3]"
      ],
      "metadata": {
        "colab": {
          "base_uri": "https://localhost:8080/"
        },
        "id": "mso1vKgQvE4f",
        "outputId": "c820cb34-fcd2-4357-f797-48f0c7a90f83"
      },
      "id": "mso1vKgQvE4f",
      "execution_count": 47,
      "outputs": [
        {
          "output_type": "execute_result",
          "data": {
            "text/plain": [
              "tensor([[[0., 0., 0., 0., 0., 0., 0., 0., 0., 0., 0., 0., 0., 0., 0., 0., 0.,\n",
              "          0., 0., 0., 0., 0., 0., 0., 0., 0., 0., 0., 0., 0., 0., 0., 0., 0.,\n",
              "          0., 0., 0., 0., 0., 0., 0., 0., 0., 0., 0., 0., 0., 0., 0., 0., 0.,\n",
              "          0., 0., 0., 0., 0., 0., 1., 0., 0., 0., 0.],\n",
              "         [0., 1., 0., 0., 0., 0., 0., 0., 0., 0., 0., 0., 0., 0., 0., 0., 0.,\n",
              "          0., 0., 0., 0., 0., 0., 0., 0., 0., 0., 0., 0., 0., 0., 0., 0., 0.,\n",
              "          0., 0., 0., 0., 0., 0., 0., 0., 0., 0., 0., 0., 0., 0., 0., 0., 0.,\n",
              "          0., 0., 0., 0., 0., 0., 0., 0., 0., 0., 0.],\n",
              "         [0., 0., 0., 0., 0., 0., 1., 0., 0., 0., 0., 0., 0., 0., 0., 0., 0.,\n",
              "          0., 0., 0., 0., 0., 0., 0., 0., 0., 0., 0., 0., 0., 0., 0., 0., 0.,\n",
              "          0., 0., 0., 0., 0., 0., 0., 0., 0., 0., 0., 0., 0., 0., 0., 0., 0.,\n",
              "          0., 0., 0., 0., 0., 0., 0., 0., 0., 0., 0.],\n",
              "         [0., 0., 0., 0., 0., 0., 0., 0., 0., 0., 0., 0., 0., 0., 0., 1., 0.,\n",
              "          0., 0., 0., 0., 0., 0., 0., 0., 0., 0., 0., 0., 0., 0., 0., 0., 0.,\n",
              "          0., 0., 0., 0., 0., 0., 0., 0., 0., 0., 0., 0., 0., 0., 0., 0., 0.,\n",
              "          0., 0., 0., 0., 0., 0., 0., 0., 0., 0., 0.],\n",
              "         [0., 0., 0., 0., 0., 0., 0., 0., 0., 0., 0., 0., 0., 0., 0., 0., 0.,\n",
              "          0., 0., 0., 0., 0., 0., 0., 0., 0., 0., 0., 0., 0., 0., 0., 0., 0.,\n",
              "          0., 0., 0., 0., 0., 0., 0., 0., 0., 0., 0., 0., 0., 0., 0., 0., 0.,\n",
              "          0., 0., 0., 1., 0., 0., 0., 0., 0., 0., 0.]],\n",
              "\n",
              "        [[0., 0., 0., 0., 0., 0., 0., 0., 0., 0., 0., 0., 0., 0., 0., 1., 0.,\n",
              "          0., 0., 0., 0., 0., 0., 0., 0., 0., 0., 0., 0., 0., 0., 0., 0., 0.,\n",
              "          0., 0., 0., 0., 0., 0., 0., 0., 0., 0., 0., 0., 0., 0., 0., 0., 0.,\n",
              "          0., 0., 0., 0., 0., 0., 0., 0., 0., 0., 0.],\n",
              "         [0., 0., 0., 0., 0., 0., 0., 0., 0., 0., 0., 0., 0., 0., 0., 0., 0.,\n",
              "          0., 0., 0., 0., 0., 0., 1., 0., 0., 0., 0., 0., 0., 0., 0., 0., 0.,\n",
              "          0., 0., 0., 0., 0., 0., 0., 0., 0., 0., 0., 0., 0., 0., 0., 0., 0.,\n",
              "          0., 0., 0., 0., 0., 0., 0., 0., 0., 0., 0.],\n",
              "         [0., 0., 0., 0., 0., 0., 0., 0., 0., 0., 0., 0., 0., 1., 0., 0., 0.,\n",
              "          0., 0., 0., 0., 0., 0., 0., 0., 0., 0., 0., 0., 0., 0., 0., 0., 0.,\n",
              "          0., 0., 0., 0., 0., 0., 0., 0., 0., 0., 0., 0., 0., 0., 0., 0., 0.,\n",
              "          0., 0., 0., 0., 0., 0., 0., 0., 0., 0., 0.],\n",
              "         [0., 0., 0., 0., 1., 0., 0., 0., 0., 0., 0., 0., 0., 0., 0., 0., 0.,\n",
              "          0., 0., 0., 0., 0., 0., 0., 0., 0., 0., 0., 0., 0., 0., 0., 0., 0.,\n",
              "          0., 0., 0., 0., 0., 0., 0., 0., 0., 0., 0., 0., 0., 0., 0., 0., 0.,\n",
              "          0., 0., 0., 0., 0., 0., 0., 0., 0., 0., 0.],\n",
              "         [0., 0., 0., 0., 0., 0., 0., 0., 0., 0., 0., 0., 0., 0., 0., 0., 0.,\n",
              "          0., 0., 0., 0., 0., 0., 0., 0., 0., 0., 0., 0., 0., 0., 0., 0., 0.,\n",
              "          0., 0., 0., 0., 0., 0., 0., 0., 0., 0., 0., 0., 0., 0., 0., 0., 0.,\n",
              "          0., 0., 0., 0., 0., 0., 0., 0., 0., 1., 0.]],\n",
              "\n",
              "        [[0., 0., 0., 0., 0., 0., 0., 0., 0., 0., 0., 0., 0., 0., 0., 0., 0.,\n",
              "          0., 0., 0., 0., 0., 0., 1., 0., 0., 0., 0., 0., 0., 0., 0., 0., 0.,\n",
              "          0., 0., 0., 0., 0., 0., 0., 0., 0., 0., 0., 0., 0., 0., 0., 0., 0.,\n",
              "          0., 0., 0., 0., 0., 0., 0., 0., 0., 0., 0.],\n",
              "         [0., 0., 0., 0., 0., 0., 0., 0., 0., 0., 0., 0., 0., 0., 0., 0., 0.,\n",
              "          0., 0., 0., 0., 0., 0., 0., 0., 0., 0., 0., 0., 0., 0., 0., 0., 0.,\n",
              "          0., 0., 0., 0., 0., 0., 0., 0., 0., 0., 0., 0., 0., 0., 0., 0., 0.,\n",
              "          0., 0., 0., 0., 0., 0., 0., 0., 1., 0., 0.],\n",
              "         [0., 0., 0., 0., 0., 0., 0., 0., 0., 0., 0., 0., 0., 0., 0., 0., 0.,\n",
              "          0., 0., 0., 0., 0., 0., 0., 0., 0., 0., 0., 0., 0., 0., 0., 0., 0.,\n",
              "          0., 0., 0., 0., 0., 0., 0., 0., 0., 0., 0., 0., 0., 0., 0., 0., 0.,\n",
              "          0., 0., 0., 0., 0., 0., 0., 0., 1., 0., 0.],\n",
              "         [0., 0., 0., 0., 0., 0., 0., 0., 0., 0., 0., 0., 0., 0., 0., 0., 0.,\n",
              "          0., 0., 0., 0., 0., 0., 0., 0., 0., 0., 0., 0., 0., 0., 0., 0., 0.,\n",
              "          0., 0., 0., 0., 0., 0., 0., 0., 0., 0., 0., 0., 0., 0., 0., 0., 0.,\n",
              "          0., 0., 0., 0., 0., 1., 0., 0., 0., 0., 0.],\n",
              "         [0., 0., 0., 0., 0., 0., 0., 0., 0., 0., 0., 0., 0., 0., 0., 0., 0.,\n",
              "          0., 0., 0., 0., 0., 0., 0., 0., 0., 0., 0., 0., 0., 0., 0., 0., 0.,\n",
              "          0., 0., 0., 0., 0., 0., 0., 0., 0., 0., 0., 0., 0., 0., 0., 0., 0.,\n",
              "          0., 0., 0., 0., 0., 0., 0., 1., 0., 0., 0.]]])"
            ]
          },
          "metadata": {},
          "execution_count": 47
        }
      ]
    },
    {
      "cell_type": "code",
      "source": [
        "F.cross_entropy(output[:3], example_targets[:3].float())"
      ],
      "metadata": {
        "colab": {
          "base_uri": "https://localhost:8080/"
        },
        "id": "W0Ky4PgUJqKe",
        "outputId": "0eb9637f-d173-435c-a93a-6d51cb3dffe9"
      },
      "id": "W0Ky4PgUJqKe",
      "execution_count": 48,
      "outputs": [
        {
          "output_type": "execute_result",
          "data": {
            "text/plain": [
              "tensor(0.2339)"
            ]
          },
          "metadata": {},
          "execution_count": 48
        }
      ]
    },
    {
      "cell_type": "markdown",
      "source": [
        "## Train model"
      ],
      "metadata": {
        "id": "H-SkJAl-zWzv"
      },
      "id": "H-SkJAl-zWzv"
    },
    {
      "cell_type": "code",
      "execution_count": 49,
      "id": "2f0511be-040d-4632-bbba-8ff5d3d80e6a",
      "metadata": {
        "id": "2f0511be-040d-4632-bbba-8ff5d3d80e6a",
        "colab": {
          "base_uri": "https://localhost:8080/"
        },
        "outputId": "2384c044-f859-4a43-ae5d-65ec63353a52"
      },
      "outputs": [
        {
          "output_type": "stream",
          "name": "stdout",
          "text": [
            "Train Epoch: 1 [0/800 (0%)]\tLoss: 0.187302\n",
            "Train Epoch: 1 [320/800 (40%)]\tLoss: 0.136805\n",
            "Train Epoch: 1 [640/800 (80%)]\tLoss: 0.124095\n",
            "0.14114606738090515\n",
            "Validation_loss: 0.1281026005744934\n",
            "Validation_loss: 0.1281026005744934\n",
            "Validation_loss: 0.13110274076461792\n",
            "Validation_loss: 0.12972325086593628\n",
            "Validation_loss: 0.12209649384021759\n",
            "Validation_loss: 0.12654376029968262\n",
            "Train Epoch: 2 [0/800 (0%)]\tLoss: 0.123782\n",
            "Train Epoch: 2 [320/800 (40%)]\tLoss: 0.117343\n",
            "Train Epoch: 2 [640/800 (80%)]\tLoss: 0.112557\n",
            "0.11843091547489167\n",
            "Validation_loss: 0.11596005409955978\n",
            "Validation_loss: 0.11596005409955978\n",
            "Validation_loss: 0.12067054212093353\n",
            "Validation_loss: 0.11991316080093384\n",
            "Validation_loss: 0.12245927006006241\n",
            "Validation_loss: 0.11398198455572128\n",
            "Train Epoch: 3 [0/800 (0%)]\tLoss: 0.111706\n",
            "Train Epoch: 3 [320/800 (40%)]\tLoss: 0.110153\n",
            "Train Epoch: 3 [640/800 (80%)]\tLoss: 0.100842\n",
            "0.1061182913184166\n",
            "Validation_loss: 0.11011935770511627\n",
            "Validation_loss: 0.11011935770511627\n",
            "Validation_loss: 0.11173009872436523\n",
            "Validation_loss: 0.11209511011838913\n",
            "Validation_loss: 0.11131221055984497\n",
            "Validation_loss: 0.11012031883001328\n",
            "Train Epoch: 4 [0/800 (0%)]\tLoss: 0.099226\n",
            "Train Epoch: 4 [320/800 (40%)]\tLoss: 0.093276\n",
            "Train Epoch: 4 [640/800 (80%)]\tLoss: 0.097962\n",
            "0.09385867446660995\n",
            "Validation_loss: 0.10029949247837067\n",
            "Validation_loss: 0.10029949247837067\n",
            "Validation_loss: 0.09894533455371857\n",
            "Validation_loss: 0.0957895964384079\n",
            "Validation_loss: 0.09765937924385071\n",
            "Validation_loss: 0.0943540409207344\n",
            "Train Epoch: 5 [0/800 (0%)]\tLoss: 0.088424\n",
            "Train Epoch: 5 [320/800 (40%)]\tLoss: 0.075122\n",
            "Train Epoch: 5 [640/800 (80%)]\tLoss: 0.080691\n",
            "0.08137527227401734\n",
            "Validation_loss: 0.09360747039318085\n",
            "Validation_loss: 0.09360747039318085\n",
            "Validation_loss: 0.09115332365036011\n",
            "Validation_loss: 0.09369422495365143\n",
            "Validation_loss: 0.08480796217918396\n",
            "Validation_loss: 0.08966126292943954\n",
            "Train Epoch: 6 [0/800 (0%)]\tLoss: 0.072525\n",
            "Train Epoch: 6 [320/800 (40%)]\tLoss: 0.078655\n",
            "Train Epoch: 6 [640/800 (80%)]\tLoss: 0.073749\n",
            "0.0693701359629631\n",
            "Validation_loss: 0.06802602112293243\n",
            "Validation_loss: 0.06802602112293243\n",
            "Validation_loss: 0.08853597939014435\n",
            "Validation_loss: 0.07711417227983475\n",
            "Validation_loss: 0.0832696482539177\n",
            "Validation_loss: 0.0711851716041565\n",
            "Train Epoch: 7 [0/800 (0%)]\tLoss: 0.065875\n",
            "Train Epoch: 7 [320/800 (40%)]\tLoss: 0.054082\n",
            "Train Epoch: 7 [640/800 (80%)]\tLoss: 0.064713\n",
            "0.059063472300767896\n",
            "Validation_loss: 0.07230092585086823\n",
            "Validation_loss: 0.07230092585086823\n",
            "Validation_loss: 0.0642353817820549\n",
            "Validation_loss: 0.09324147552251816\n",
            "Validation_loss: 0.07200758904218674\n",
            "Validation_loss: 0.060392092913389206\n",
            "Train Epoch: 8 [0/800 (0%)]\tLoss: 0.053275\n",
            "Train Epoch: 8 [320/800 (40%)]\tLoss: 0.056587\n",
            "Train Epoch: 8 [640/800 (80%)]\tLoss: 0.048291\n",
            "0.04925489410758019\n",
            "Validation_loss: 0.0643359050154686\n",
            "Validation_loss: 0.0643359050154686\n",
            "Validation_loss: 0.0794217512011528\n",
            "Validation_loss: 0.05931619182229042\n",
            "Validation_loss: 0.06445391476154327\n",
            "Validation_loss: 0.07087019830942154\n",
            "Train Epoch: 9 [0/800 (0%)]\tLoss: 0.038810\n",
            "Train Epoch: 9 [320/800 (40%)]\tLoss: 0.034827\n",
            "Train Epoch: 9 [640/800 (80%)]\tLoss: 0.041165\n",
            "0.04073082491755486\n",
            "Validation_loss: 0.048452604562044144\n",
            "Validation_loss: 0.048452604562044144\n",
            "Validation_loss: 0.06030622869729996\n",
            "Validation_loss: 0.0742889866232872\n",
            "Validation_loss: 0.06812480092048645\n",
            "Validation_loss: 0.05243835970759392\n",
            "Train Epoch: 10 [0/800 (0%)]\tLoss: 0.026945\n",
            "Train Epoch: 10 [320/800 (40%)]\tLoss: 0.037785\n",
            "Train Epoch: 10 [640/800 (80%)]\tLoss: 0.035321\n",
            "0.03621194660663605\n",
            "Validation_loss: 0.05543787404894829\n",
            "Validation_loss: 0.05543787404894829\n",
            "Validation_loss: 0.06015203520655632\n",
            "Validation_loss: 0.06598993390798569\n",
            "Validation_loss: 0.047089461237192154\n",
            "Validation_loss: 0.1436982899904251\n",
            "Train Epoch: 11 [0/800 (0%)]\tLoss: 0.025094\n",
            "Train Epoch: 11 [320/800 (40%)]\tLoss: 0.028474\n",
            "Train Epoch: 11 [640/800 (80%)]\tLoss: 0.028435\n",
            "0.03050270490348339\n",
            "Validation_loss: 0.06383519619703293\n",
            "Validation_loss: 0.06383519619703293\n",
            "Validation_loss: 0.056447673588991165\n",
            "Validation_loss: 0.06514289230108261\n",
            "Validation_loss: 0.06043143942952156\n",
            "Validation_loss: 0.07706532627344131\n",
            "Train Epoch: 12 [0/800 (0%)]\tLoss: 0.032589\n",
            "Train Epoch: 12 [320/800 (40%)]\tLoss: 0.021737\n",
            "Train Epoch: 12 [640/800 (80%)]\tLoss: 0.024746\n",
            "0.02863262079656124\n",
            "Validation_loss: 0.05465535819530487\n",
            "Validation_loss: 0.05465535819530487\n",
            "Validation_loss: 0.06534960865974426\n",
            "Validation_loss: 0.06089365854859352\n",
            "Validation_loss: 0.06608130782842636\n",
            "Validation_loss: 0.040869228541851044\n",
            "Train Epoch: 13 [0/800 (0%)]\tLoss: 0.027035\n",
            "Train Epoch: 13 [320/800 (40%)]\tLoss: 0.028373\n",
            "Train Epoch: 13 [640/800 (80%)]\tLoss: 0.035628\n",
            "0.027350248098373414\n",
            "Validation_loss: 0.04985959827899933\n",
            "Validation_loss: 0.04985959827899933\n",
            "Validation_loss: 0.03789746016263962\n",
            "Validation_loss: 0.07402344793081284\n",
            "Validation_loss: 0.039259716868400574\n",
            "Validation_loss: 0.11732584238052368\n",
            "Train Epoch: 14 [0/800 (0%)]\tLoss: 0.020346\n",
            "Train Epoch: 14 [320/800 (40%)]\tLoss: 0.024492\n",
            "Train Epoch: 14 [640/800 (80%)]\tLoss: 0.023764\n",
            "0.02529847398400307\n",
            "Validation_loss: 0.06227424740791321\n",
            "Validation_loss: 0.06227424740791321\n",
            "Validation_loss: 0.04415924847126007\n",
            "Validation_loss: 0.06573908030986786\n",
            "Validation_loss: 0.038567349314689636\n",
            "Validation_loss: 0.06437384337186813\n",
            "Train Epoch: 15 [0/800 (0%)]\tLoss: 0.023750\n",
            "Train Epoch: 15 [320/800 (40%)]\tLoss: 0.022740\n",
            "Train Epoch: 15 [640/800 (80%)]\tLoss: 0.020576\n",
            "0.022866522371768953\n",
            "Validation_loss: 0.045680176466703415\n",
            "Validation_loss: 0.045680176466703415\n",
            "Validation_loss: 0.03287692368030548\n",
            "Validation_loss: 0.0840991660952568\n",
            "Validation_loss: 0.04747364670038223\n",
            "Validation_loss: 0.046886149793863297\n"
          ]
        }
      ],
      "source": [
        "from torch import optim\n",
        "class Trainer:\n",
        "    def __init__(self,\n",
        "                 n_epoch:int,\n",
        "                 train_loader,\n",
        "                 validation_loader):\n",
        "\n",
        "        self.n_epoch = n_epoch\n",
        "\n",
        "        self.train_loader = train_loader\n",
        "        self.validation_loader = validation_loader\n",
        "        self.net = Net(256, num_feature_maps, kernel_sizes)\n",
        "        self.net.to(device)\n",
        "        self.optimizer = optim.Adam(lr=0.01, params=self.net.parameters()) #optim.Adam(lr=0.001, params=self.net.parameters())\n",
        "        self.loss = nn.CrossEntropyLoss()\n",
        "\n",
        "        self.chars = None\n",
        "        self.val_char = None\n",
        "\n",
        "    def train(self):\n",
        "        for epoch in range(1, self.n_epoch + 1):\n",
        "          error = self.train_loop(epoch)\n",
        "          print(error)\n",
        "          self.validation()\n",
        "    def train_loop(self, epoch):\n",
        "        losses = []\n",
        "        for idx, (x, y) in enumerate(self.train_loader):\n",
        "          x = x.to(device)\n",
        "          y = y.to(device)\n",
        "          self.optimizer.zero_grad()\n",
        "\n",
        "          output = self.net(x)\n",
        "          loss = F.cross_entropy(output, y)\n",
        "          losses.append(loss.item())\n",
        "          loss.backward()\n",
        "\n",
        "          self.optimizer.step()\n",
        "\n",
        "          if idx % log_interval == 0:\n",
        "            print('Train Epoch: {} [{}/{} ({:.0f}%)]\\tLoss: {:.6f}'.format(\n",
        "            epoch, idx * len(x), len(self.train_loader.dataset),\n",
        "            100. * idx / len(self.train_loader), loss.item()))\n",
        "\n",
        "\n",
        "        return np.mean(losses)\n",
        "\n",
        "    def validation(self):\n",
        "        val_loss_list = []\n",
        "        for idx, (x, y) in enumerate(self.validation_loader):\n",
        "          x = x.to(device)\n",
        "          y = y.to(device)\n",
        "          with torch.no_grad():\n",
        "            validation_output = self.net(x)\n",
        "            loss_val = F.cross_entropy(validation_output, y)\n",
        "            print(\"Validation_loss: {}\".format(loss_val))\n",
        "            y_pos = torch.argmax(y,dim=-1).detach().cpu().numpy()\n",
        "            chars = torch.argmax(validation_output,dim=-1).detach().cpu().numpy()\n",
        "            vfunc = np.vectorize(token_dict.get)\n",
        "\n",
        "            self.chars = vfunc(chars)\n",
        "            self.val_char = vfunc(y_pos)\n",
        "            #print(\"predicted:\", vfunc(chars), \"target:\", vfunc(y_pos))\n",
        "            if idx % log_interval==0:\n",
        "              print(\"Validation_loss: {}\".format(loss_val))\n",
        "\n",
        "    def get_chars(self):\n",
        "      return self.chars, self.val_char\n",
        "\n",
        "\n",
        "trainer = Trainer(15, train_loader, validation_loader)\n",
        "trainer.train()"
      ]
    },
    {
      "cell_type": "code",
      "source": [
        "# Look at results from validation set\n",
        "trainer.get_chars()"
      ],
      "metadata": {
        "colab": {
          "base_uri": "https://localhost:8080/"
        },
        "id": "YQd7tdLLy_CX",
        "outputId": "9ee6e8ec-bd55-4125-eb7d-584e6ef5dc30"
      },
      "id": "YQd7tdLLy_CX",
      "execution_count": 51,
      "outputs": [
        {
          "output_type": "execute_result",
          "data": {
            "text/plain": [
              "(array([['3', 'n', 'n', 'y', '7'],\n",
              "        ['p', 'c', 'w', '7', 'e'],\n",
              "        ['f', '5', 'g', '8', 'c'],\n",
              "        ['f', 'n', '8', 'g', 'x'],\n",
              "        ['6', 'f', '2', 'y', 'e'],\n",
              "        ['d', 'y', 'w', 'c', 'e'],\n",
              "        ['c', 'g', '8', 'f', 'g']], dtype='<U1'),\n",
              " array([['3', 'e', 'n', 'y', '7'],\n",
              "        ['p', 'c', 'm', 'c', 'c'],\n",
              "        ['5', '5', 'w', '5', 'c'],\n",
              "        ['7', 'm', '8', 'p', 'x'],\n",
              "        ['6', 'f', '2', 'y', 'c'],\n",
              "        ['d', 'x', 'w', 'c', 'w'],\n",
              "        ['e', 'e', '8', 'f', 'g']], dtype='<U1'))"
            ]
          },
          "metadata": {},
          "execution_count": 51
        }
      ]
    }
  ],
  "metadata": {
    "kernelspec": {
      "display_name": "Python 3",
      "name": "python3"
    },
    "language_info": {
      "codemirror_mode": {
        "name": "ipython",
        "version": 3
      },
      "file_extension": ".py",
      "mimetype": "text/x-python",
      "name": "python",
      "nbconvert_exporter": "python",
      "pygments_lexer": "ipython3",
      "version": "3.9.17"
    },
    "colab": {
      "provenance": [],
      "gpuType": "T4"
    },
    "accelerator": "GPU"
  },
  "nbformat": 4,
  "nbformat_minor": 5
}
